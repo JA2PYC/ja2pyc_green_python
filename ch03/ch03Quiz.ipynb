{
 "cells": [
  {
   "cell_type": "code",
   "execution_count": 2,
   "id": "5c3010a5-aaf7-456a-bdaf-ab998bc39ff7",
   "metadata": {},
   "outputs": [
    {
     "name": "stdout",
     "output_type": "stream",
     "text": [
      "hello! python\n"
     ]
    }
   ],
   "source": [
    "# Chapter 3 Quiz\n",
    "# Question 1\n",
    "s = \"hello\"\n",
    "t = \"python\"\n",
    "print (s + \"! \" + t)"
   ]
  },
  {
   "cell_type": "code",
   "execution_count": 8,
   "id": "fd5f7ab5-e15c-4434-ad76-9f643b65b00a",
   "metadata": {},
   "outputs": [
    {
     "name": "stdout",
     "output_type": "stream",
     "text": [
      "2210\n"
     ]
    }
   ],
   "source": [
    "# Question 2\n",
    "license_plate = \"24가 2210\"\n",
    "print (license_plate[-4:])"
   ]
  },
  {
   "cell_type": "code",
   "execution_count": 10,
   "id": "90bf22d6-a7c3-43eb-ba14-7502ef1aa3c1",
   "metadata": {},
   "outputs": [
    {
     "name": "stdout",
     "output_type": "stream",
     "text": [
      "HiHiHi\n"
     ]
    }
   ],
   "source": [
    "# Question 3\n",
    "print (\"Hi\" * 3)"
   ]
  },
  {
   "cell_type": "code",
   "execution_count": 18,
   "id": "eb7b47b8-fb81-4d2a-a398-49f1fc9b7f49",
   "metadata": {},
   "outputs": [
    {
     "name": "stdout",
     "output_type": "stream",
     "text": [
      "이름 : Python, 출시년도 : 1994\n",
      "이름 : Java, 출시년도 : 1995\n"
     ]
    }
   ],
   "source": [
    "# Question 4\n",
    "name1 = \"Python\"\n",
    "year1 = 1994\n",
    "name2 = \"Java\"\n",
    "year2 = 1995\n",
    "print (\"이름 : %s, 출시년도 : %d\" %(name1, year1))\n",
    "print (\"이름 : %s, 출시년도 : %d\" %(name2, year2))"
   ]
  },
  {
   "cell_type": "code",
   "execution_count": 31,
   "id": "3532d2a0-4d65-4c7a-8027-89f0f79d3856",
   "metadata": {},
   "outputs": [
    {
     "name": "stdout",
     "output_type": "stream",
     "text": [
      "입력\n"
     ]
    },
    {
     "name": "stdin",
     "output_type": "stream",
     "text": [
      "국어 점수를 입력하세요 :  100\n",
      "영어 점수를 입력하세요 :  90\n",
      "수학 점수를 입력하세요 :  85\n"
     ]
    },
    {
     "name": "stdout",
     "output_type": "stream",
     "text": [
      "출력\n",
      "국어 점수 : 100\n",
      "영어 점수 : 90\n",
      "수학 점수 : 85\n",
      "평균 점수 : 91.60\n"
     ]
    }
   ],
   "source": [
    "# Question 5\n",
    "print (\"입력\")\n",
    "korScore = input(\"국어 점수를 입력하세요 : \")\n",
    "engScore = input(\"영어 점수를 입력하세요 : \")\n",
    "mathScore = input(\"수학 점수를 입력하세요 : \")\n",
    "print (\"출력\")\n",
    "print (\"국어 점수 : \" + korScore)\n",
    "print (\"영어 점수 : \" + engScore)\n",
    "print (\"수학 점수 : \" + mathScore)\n",
    "avgScore = (int(korScore) + int(engScore) + int(mathScore)) / 3\n",
    "import math\n",
    "avgScore = math.floor(avgScore * 10) / 10\n",
    "print (\"평균 점수 : %.2f\" %avgScore)"
   ]
  },
  {
   "cell_type": "code",
   "execution_count": null,
   "id": "0c3a98cc-6328-4f00-902b-7bcc745daf9b",
   "metadata": {},
   "outputs": [],
   "source": []
  }
 ],
 "metadata": {
  "kernelspec": {
   "display_name": "Python 3 (ipykernel)",
   "language": "python",
   "name": "python3"
  },
  "language_info": {
   "codemirror_mode": {
    "name": "ipython",
    "version": 3
   },
   "file_extension": ".py",
   "mimetype": "text/x-python",
   "name": "python",
   "nbconvert_exporter": "python",
   "pygments_lexer": "ipython3",
   "version": "3.12.4"
  }
 },
 "nbformat": 4,
 "nbformat_minor": 5
}
