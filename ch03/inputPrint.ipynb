{
 "cells": [
  {
   "cell_type": "code",
   "execution_count": 26,
   "id": "150bf65c-5a78-43a6-a1a6-a06eabf638cd",
   "metadata": {},
   "outputs": [
    {
     "name": "stdin",
     "output_type": "stream",
     "text": [
      "당신의 이름은? Phthon\n"
     ]
    },
    {
     "name": "stdout",
     "output_type": "stream",
     "text": [
      "당신의 이름은 Phthon 이군요.\n",
      "Phthon님 반가워요. 혹시 JAVA를 아시나요?\n",
      "이 문서를 작성한 날짜는 10월 23일 입니다.\n",
      "PI는 약3.1416이라는 것을 알고 계신가요?\n",
      "Python, Java, C#, PHP을 공부해 봅시다.\n",
      "P h t h중에서 알고 계신 언어가 있으신가요?\n"
     ]
    }
   ],
   "source": [
    "a = input('당신의 이름은?')\n",
    "print (\"당신의 이름은\", a, \"이군요.\")"
   ]
  },
  {
   "cell_type": "code",
   "execution_count": 40,
   "id": "26a6e49b-0c72-4c81-941b-d4800f506481",
   "metadata": {},
   "outputs": [
    {
     "name": "stdout",
     "output_type": "stream",
     "text": [
      "Python님 반가워요. 혹시 JAVA를 아시나요?\n",
      "이 문서를 작성한 날짜는 10월 23일 입니다.\n",
      "PI는 약3.1416이라는 것을 알고 계신가요?\n",
      "Python, Java, C#, PHP을 공부해 봅시다.\n",
      "Python, Java, C#, PHP중에서 알고 계신 언어가 있으신가요?\n"
     ]
    }
   ],
   "source": [
    "a = 'Python'\n",
    "b = \"JAVA\"\n",
    "print (\"%s님 반가워요. 혹시 %s를 아시나요?\" %(a,b))\n",
    "print (\"이 문서를 작성한 날짜는 {}월 {}일 입니다.\" .format(10,23))\n",
    "c = 3.14159\n",
    "print (\"PI는 약{:6.4f}이라는 것을 알고 계신가요?\" .format(c))\n",
    "d = ['Python', 'Java', 'C#', 'PHP']\n",
    "print ('{}, {}, {}, {}을 공부해 봅시다.' .format(d[0], d[1], d[2], d[3]))\n",
    "print ('{0}, {1}, {2}, {3}중에서 알고 계신 언어가 있으신가요?'.format(*d))"
   ]
  },
  {
   "cell_type": "code",
   "execution_count": null,
   "id": "3d765dad-0f21-4efb-a3cc-937e740ca4e0",
   "metadata": {},
   "outputs": [],
   "source": []
  }
 ],
 "metadata": {
  "kernelspec": {
   "display_name": "Python 3 (ipykernel)",
   "language": "python",
   "name": "python3"
  },
  "language_info": {
   "codemirror_mode": {
    "name": "ipython",
    "version": 3
   },
   "file_extension": ".py",
   "mimetype": "text/x-python",
   "name": "python",
   "nbconvert_exporter": "python",
   "pygments_lexer": "ipython3",
   "version": "3.12.4"
  }
 },
 "nbformat": 4,
 "nbformat_minor": 5
}
