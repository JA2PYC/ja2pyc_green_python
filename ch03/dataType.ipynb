{
 "cells": [
  {
   "cell_type": "code",
   "execution_count": 4,
   "id": "83297b06-791c-4449-a3f8-00ec4e375e78",
   "metadata": {},
   "outputs": [],
   "source": [
    "a = 10\n",
    "b = 3.2\n",
    "c = \"안녕\"\n",
    "d = True"
   ]
  },
  {
   "cell_type": "code",
   "execution_count": 6,
   "id": "b6237f2b-1567-406d-8f0f-f34b4aca0ddf",
   "metadata": {},
   "outputs": [
    {
     "name": "stdout",
     "output_type": "stream",
     "text": [
      "10\n",
      "3.2\n",
      "안녕\n",
      "True\n",
      "<class 'int'>\n",
      "<class 'float'>\n",
      "<class 'str'>\n",
      "<class 'bool'>\n",
      "<class 'int'>\n"
     ]
    }
   ],
   "source": [
    "print (a)\n",
    "print (b)\n",
    "print (c)\n",
    "print (d)\n",
    "print (type(a))\n",
    "print (type(b))\n",
    "print (type(c))\n",
    "print (type(d))\n",
    "b = int (a)\n",
    "print (type(b))"
   ]
  },
  {
   "cell_type": "code",
   "execution_count": 71,
   "id": "2a244e45-fa97-44ab-a615-5c92d0068141",
   "metadata": {},
   "outputs": [
    {
     "name": "stdout",
     "output_type": "stream",
     "text": [
      "if\n",
      "a 는 5보다 크다. a : 10\n",
      "0\n",
      "<class 'int'> 10\n"
     ]
    }
   ],
   "source": [
    "if a > 5 :\n",
    "    print('if')\n",
    "    print ('a 는 5보다 크다. a : ' + str(a))\n",
    "print('0')\n",
    "# print ('1')\n",
    "#  print ('2')\n",
    "#   print ('3')\n",
    "print (type(a), a)"
   ]
  }
 ],
 "metadata": {
  "kernelspec": {
   "display_name": "Python 3 (ipykernel)",
   "language": "python",
   "name": "python3"
  },
  "language_info": {
   "codemirror_mode": {
    "name": "ipython",
    "version": 3
   },
   "file_extension": ".py",
   "mimetype": "text/x-python",
   "name": "python",
   "nbconvert_exporter": "python",
   "pygments_lexer": "ipython3",
   "version": "3.12.4"
  }
 },
 "nbformat": 4,
 "nbformat_minor": 5
}
