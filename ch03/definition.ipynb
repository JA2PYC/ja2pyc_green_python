{
 "cells": [
  {
   "cell_type": "code",
   "execution_count": 28,
   "id": "d492ac95-2e65-4be9-b203-eb9c0cc22071",
   "metadata": {},
   "outputs": [
    {
     "name": "stdout",
     "output_type": "stream",
     "text": [
      "--------------------------------------------------\n",
      "<class 'int'> <class 'float'>\n",
      "합계 : 36, 평균 : 18.00\n",
      "합계 :  36 평균 :  18.0\n",
      "평균 :  18.0 합계 :  36\n"
     ]
    }
   ],
   "source": [
    "print(\"--------------------------------------------------\")\n",
    "def calcSumAvg (x,y):\n",
    "    sum = x + y\n",
    "    avg = sum / 2\n",
    "    return sum, avg\n",
    "a, b = calcSumAvg(13,23)\n",
    "print (type(a), type(b))\n",
    "print (\"합계 : %d, 평균 : %.2f\" %(a,b))\n",
    "print (\"합계 : \", a, \"평균 : \", b)\n",
    "\n",
    "a, b = b, a\n",
    "print (\"평균 : \", a, \"합계 : \", b)\n"
   ]
  },
  {
   "cell_type": "code",
   "execution_count": 34,
   "id": "2bc8d224-8c73-473b-9344-db5ac957b4c5",
   "metadata": {},
   "outputs": [
    {
     "name": "stdout",
     "output_type": "stream",
     "text": [
      "--------------------------------------------------\n",
      "카운터 1\n",
      "카운터 2\n",
      "카운터 3\n"
     ]
    }
   ],
   "source": [
    "print(\"--------------------------------------------------\")\n",
    "c = 1\n",
    "while (c <= 3) :\n",
    "    print (\"카운터\", c)\n",
    "    c = c +1"
   ]
  },
  {
   "cell_type": "code",
   "execution_count": null,
   "id": "79a4dd90-b7ab-4021-9b3c-b7919952338f",
   "metadata": {},
   "outputs": [],
   "source": []
  }
 ],
 "metadata": {
  "kernelspec": {
   "display_name": "Python 3 (ipykernel)",
   "language": "python",
   "name": "python3"
  },
  "language_info": {
   "codemirror_mode": {
    "name": "ipython",
    "version": 3
   },
   "file_extension": ".py",
   "mimetype": "text/x-python",
   "name": "python",
   "nbconvert_exporter": "python",
   "pygments_lexer": "ipython3",
   "version": "3.12.4"
  }
 },
 "nbformat": 4,
 "nbformat_minor": 5
}
