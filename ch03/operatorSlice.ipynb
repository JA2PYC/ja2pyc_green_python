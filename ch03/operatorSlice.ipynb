{
 "cells": [
  {
   "cell_type": "code",
   "execution_count": 16,
   "id": "a9e175cb-fa6f-4d21-9bc3-64ae0b33415e",
   "metadata": {},
   "outputs": [
    {
     "name": "stdout",
     "output_type": "stream",
     "text": [
      "t\n",
      "t\n",
      "yt\n",
      "Pto\n",
      "Py\n"
     ]
    },
    {
     "ename": "NameError",
     "evalue": "name 'Comment' is not defined",
     "output_type": "error",
     "traceback": [
      "\u001b[1;31m---------------------------------------------------------------------------\u001b[0m",
      "\u001b[1;31mNameError\u001b[0m                                 Traceback (most recent call last)",
      "Cell \u001b[1;32mIn[16], line 12\u001b[0m\n\u001b[0;32m      7\u001b[0m \u001b[38;5;66;03m# Comment\u001b[39;00m\n\u001b[0;32m      8\u001b[0m \u001b[38;5;124;03m'''\u001b[39;00m\n\u001b[0;32m      9\u001b[0m \u001b[38;5;124;03mComment Line\u001b[39;00m\n\u001b[0;32m     10\u001b[0m \u001b[38;5;124;03m'''\u001b[39;00m\n\u001b[1;32m---> 12\u001b[0m Comment\n",
      "\u001b[1;31mNameError\u001b[0m: name 'Comment' is not defined"
     ]
    }
   ],
   "source": [
    "a = 'Python'\n",
    "print (a[2])\n",
    "print (a[-4])\n",
    "print (a[1:3])\n",
    "print (a[0:5:2])\n",
    "print (a[0:2])\n",
    "# Comment\n",
    "'''\n",
    "Comment Line\n",
    "'''"
   ]
  },
  {
   "cell_type": "code",
   "execution_count": null,
   "id": "ee6ede12-0c72-4fa6-8071-aaf8af29adfe",
   "metadata": {},
   "outputs": [],
   "source": []
  }
 ],
 "metadata": {
  "kernelspec": {
   "display_name": "Python 3 (ipykernel)",
   "language": "python",
   "name": "python3"
  },
  "language_info": {
   "codemirror_mode": {
    "name": "ipython",
    "version": 3
   },
   "file_extension": ".py",
   "mimetype": "text/x-python",
   "name": "python",
   "nbconvert_exporter": "python",
   "pygments_lexer": "ipython3",
   "version": "3.12.4"
  }
 },
 "nbformat": 4,
 "nbformat_minor": 5
}
