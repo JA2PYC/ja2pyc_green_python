{
 "cells": [
  {
   "cell_type": "code",
   "execution_count": 2,
   "id": "d28ca20b-e7bf-4815-b3b0-c544fa5b8fca",
   "metadata": {},
   "outputs": [
    {
     "name": "stdout",
     "output_type": "stream",
     "text": [
      "1\n",
      "2\n",
      "3\n"
     ]
    }
   ],
   "source": [
    "# Question 1\n",
    "test1 = 1\n",
    "print(test1)\n",
    "_Test2 = 2\n",
    "print(_Test2)\n",
    "MYNUM = 3\n",
    "print (MYNUM)\n",
    "#20My = 4\n",
    "#print (20My)"
   ]
  },
  {
   "cell_type": "code",
   "execution_count": 4,
   "id": "4ede3df1-da6c-487e-921e-72a95851f855",
   "metadata": {},
   "outputs": [
    {
     "name": "stdout",
     "output_type": "stream",
     "text": [
      "<class 'float'> 14.2\n",
      "<class 'float'> 5.0\n",
      "<class 'int'> 3\n",
      "<class 'float'> 15.0\n"
     ]
    }
   ],
   "source": [
    "# Question 2\n",
    "a = 13 + 1.2\n",
    "b = 2.5 + 2.5\n",
    "c = 7 // 2 \n",
    "d = 30 / 2\n",
    "print(type(a), a)\n",
    "print(type(b), b)\n",
    "print(type(c), c)\n",
    "print(type(d), d)\n"
   ]
  },
  {
   "cell_type": "code",
   "execution_count": 6,
   "id": "1ff18552-b7bd-476c-8a15-85a38b4b563a",
   "metadata": {},
   "outputs": [
    {
     "name": "stdin",
     "output_type": "stream",
     "text": [
      "첫 번째 수 :  13\n",
      "두 번째 수 :  12\n"
     ]
    },
    {
     "name": "stdout",
     "output_type": "stream",
     "text": [
      "결과 값 :  1312\n"
     ]
    }
   ],
   "source": [
    "# Question 3\n",
    "a = input(\"첫 번째 수 : \")\n",
    "b = input(\"두 번째 수 : \")\n",
    "print (\"결과 값 : \", a+b)\n"
   ]
  },
  {
   "cell_type": "code",
   "execution_count": 18,
   "id": "2df4349a-331a-4fe2-bc44-456df5f95525",
   "metadata": {},
   "outputs": [
    {
     "name": "stdout",
     "output_type": "stream",
     "text": [
      "         Python\n",
      "PythonPythonPythonPython\n"
     ]
    }
   ],
   "source": [
    "# Question 4\n",
    "a = \"Python\"\n",
    "print (\"%15s\" %(a))\n",
    "print (a*4)"
   ]
  },
  {
   "cell_type": "code",
   "execution_count": 20,
   "id": "12394939-d57d-42ab-ab7b-0799340eace9",
   "metadata": {},
   "outputs": [
    {
     "name": "stdout",
     "output_type": "stream",
     "text": [
      "출력 결과 : 5.39\n"
     ]
    }
   ],
   "source": [
    "# Question 5\n",
    "a = 5.3927\n",
    "print (\"출력 결과 : %.2f\" %a)"
   ]
  },
  {
   "cell_type": "code",
   "execution_count": 22,
   "id": "92367d18-77a8-4e91-a478-ce1fcfbf3a49",
   "metadata": {},
   "outputs": [
    {
     "name": "stdout",
     "output_type": "stream",
     "text": [
      "55\n"
     ]
    }
   ],
   "source": [
    "# Question 6\n",
    "total = 0\n",
    "for k in range (1, 11):\n",
    "    total = total + k\n",
    "print (total)"
   ]
  },
  {
   "cell_type": "code",
   "execution_count": 26,
   "id": "c850d009-a9a4-4590-b33e-137bda36e732",
   "metadata": {},
   "outputs": [
    {
     "name": "stdin",
     "output_type": "stream",
     "text": [
      "값을 입력하세요 :  1\n",
      "값을 입력하세요 :  2\n",
      "값을 입력하세요 :  3\n",
      "값을 입력하세요 :  4\n",
      "값을 입력하세요 :  5\n",
      "값을 입력하세요 :  6\n",
      "값을 입력하세요 :  q\n"
     ]
    },
    {
     "name": "stdout",
     "output_type": "stream",
     "text": [
      "실행 종료\n"
     ]
    }
   ],
   "source": [
    "# Question 7\n",
    "while True:\n",
    "    a = input(\"값을 입력하세요 : \")\n",
    "    if not a.isdigit() :\n",
    "        break\n",
    "print(\"실행 종료\")"
   ]
  },
  {
   "cell_type": "code",
   "execution_count": 28,
   "id": "fc728067-9609-4920-9527-3ea7bd9ff789",
   "metadata": {},
   "outputs": [
    {
     "name": "stdout",
     "output_type": "stream",
     "text": [
      "15 + 12 =  27\n"
     ]
    }
   ],
   "source": [
    "# Question 8\n",
    "def add (n1, n2):\n",
    "    r = n1 + n2\n",
    "    return r\n",
    "\n",
    "a = add(15,12)\n",
    "print ( \"15 + 12 = \", a)"
   ]
  },
  {
   "cell_type": "code",
   "execution_count": null,
   "id": "7592ee42-9e61-403b-a30e-7d8d04fe7fa8",
   "metadata": {},
   "outputs": [],
   "source": []
  }
 ],
 "metadata": {
  "kernelspec": {
   "display_name": "Python 3 (ipykernel)",
   "language": "python",
   "name": "python3"
  },
  "language_info": {
   "codemirror_mode": {
    "name": "ipython",
    "version": 3
   },
   "file_extension": ".py",
   "mimetype": "text/x-python",
   "name": "python",
   "nbconvert_exporter": "python",
   "pygments_lexer": "ipython3",
   "version": "3.12.4"
  }
 },
 "nbformat": 4,
 "nbformat_minor": 5
}
