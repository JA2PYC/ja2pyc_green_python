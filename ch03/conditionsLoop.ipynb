{
 "cells": [
  {
   "cell_type": "code",
   "execution_count": 42,
   "id": "e1ccaf7b-50c8-4483-80ac-82411ae67a6a",
   "metadata": {},
   "outputs": [
    {
     "name": "stdin",
     "output_type": "stream",
     "text": [
      "숫자를 입력해주세요> -101\n"
     ]
    },
    {
     "name": "stdout",
     "output_type": "stream",
     "text": [
      "-101은 50 이하 입니다.\n",
      "-101의 타입은 <class 'int'>입니다.\n"
     ]
    }
   ],
   "source": [
    "a = int (input(\"숫자를 입력해주세요>\"))\n",
    "if a > 100:\n",
    "    print(\"%d은 100 보다 큽니다.\" %(a))\n",
    "elif 100 >= a > 80:\n",
    "    print(\"%d은 80 보다 큽니다.\" %(a))\n",
    "elif 80 >= a > 50:\n",
    "    print (\"%d은 50 보다 큽니다.\" %(a))\n",
    "else :\n",
    "    print (\"%d은 50 이하 입니다.\" %(a))\n",
    "print (\"%d의 타입은 %s입니다.\" %(a, type(a)))"
   ]
  },
  {
   "cell_type": "code",
   "execution_count": 58,
   "id": "228737a0-fb7f-4244-bf63-b14b9d40e2df",
   "metadata": {},
   "outputs": [
    {
     "name": "stdout",
     "output_type": "stream",
     "text": [
      "--------------------------------------------------\n",
      "1\n",
      "2\n",
      "3\n",
      "4\n",
      "--------------------------------------------------\n",
      "1\n",
      "3\n",
      "--------------------------------------------------\n",
      "파\n",
      "이\n",
      "썬\n",
      "--------------------------------------------------\n",
      "J\n",
      "A\n",
      "V\n",
      "A\n",
      "--------------------------------------------------\n",
      "Python\n",
      "Java\n",
      "C#\n",
      "PHP\n",
      "--------------------------------------------------\n"
     ]
    }
   ],
   "source": [
    "print(\"--------------------------------------------------\")\n",
    "for i in range(1,5,1):\n",
    "    print(i)\n",
    "print(\"--------------------------------------------------\")\n",
    "for i in range(1,5,2):\n",
    "    print(i)\n",
    "print(\"--------------------------------------------------\")\n",
    "for i in '파이썬':\n",
    "    print(i)\n",
    "print(\"--------------------------------------------------\")\n",
    "for i in \"JAVA\":\n",
    "    print(i)\n",
    "print(\"--------------------------------------------------\")\n",
    "for i in ['Python', 'Java', 'C#', 'PHP']:\n",
    "    print(i)\n",
    "print(\"--------------------------------------------------\")"
   ]
  },
  {
   "cell_type": "code",
   "execution_count": 92,
   "id": "bbddcca7-14bb-4317-871a-008e6002340f",
   "metadata": {},
   "outputs": [
    {
     "name": "stdout",
     "output_type": "stream",
     "text": [
      "--------------------------------------------------\n",
      "1\n",
      "2 in if\n",
      "3\n",
      "4 in if\n",
      "--------------------------------------------------\n",
      "0\n",
      "1 in if\n",
      "--------------------------------------------------\n",
      "0\n",
      "1 in if\n",
      "2\n",
      "3 in if\n",
      "4\n",
      "반복묹 종료\n",
      "--------------------------------------------------\n",
      "0\n",
      "1 in if\n"
     ]
    }
   ],
   "source": [
    "print(\"--------------------------------------------------\")\n",
    "for i in range(1, 5):\n",
    "    if i%2 == 0:\n",
    "        print(str(i) + \" in if\")\n",
    "        continue\n",
    "    print(i)\n",
    "print(\"--------------------------------------------------\")\n",
    "for i in range(5):\n",
    "    if i%2 == 1:\n",
    "        print(str(i) + \" in if\")\n",
    "        break\n",
    "    print(i)\n",
    "print(\"--------------------------------------------------\")\n",
    "for i in range(5):\n",
    "    if i%2 == 1:\n",
    "        print (str(i) + \" in if\")\n",
    "        continue\n",
    "    print(i)\n",
    "else:\n",
    "    print(\"반복묹 종료\")\n",
    "print(\"--------------------------------------------------\")\n",
    "for i in range(5):\n",
    "    if i%2 == 1:\n",
    "        print (str(i) + \" in if\")\n",
    "        break\n",
    "    print(i)\n",
    "else:\n",
    "    print(\"반복문 종료\")"
   ]
  },
  {
   "cell_type": "code",
   "execution_count": 66,
   "id": "bab8ed91-4a4e-4c8b-85c6-395e4493a184",
   "metadata": {},
   "outputs": [
    {
     "name": "stdout",
     "output_type": "stream",
     "text": [
      "--------------------------------------------------\n"
     ]
    },
    {
     "name": "stdin",
     "output_type": "stream",
     "text": [
      "종료를 원하시면 Q를 입력하세요> Q\n",
      "종료를 원하시면 Q를 입력하세요> Q\n",
      "종료를 원하시면 Q를 입력하세요> q\n"
     ]
    },
    {
     "name": "stdout",
     "output_type": "stream",
     "text": [
      "종료합니다.\n",
      "--------------------------------------------------\n"
     ]
    }
   ],
   "source": [
    "print(\"--------------------------------------------------\")\n",
    "while True:\n",
    "    a = input(\"종료를 원하시면 Q를 입력하세요>\")\n",
    "    if a == 'q' or a =='Q':\n",
    "        print(\"종료합니다.\")\n",
    "        break;\n",
    "print(\"--------------------------------------------------\")\n"
   ]
  }
 ],
 "metadata": {
  "kernelspec": {
   "display_name": "Python 3 (ipykernel)",
   "language": "python",
   "name": "python3"
  },
  "language_info": {
   "codemirror_mode": {
    "name": "ipython",
    "version": 3
   },
   "file_extension": ".py",
   "mimetype": "text/x-python",
   "name": "python",
   "nbconvert_exporter": "python",
   "pygments_lexer": "ipython3",
   "version": "3.12.4"
  }
 },
 "nbformat": 4,
 "nbformat_minor": 5
}
