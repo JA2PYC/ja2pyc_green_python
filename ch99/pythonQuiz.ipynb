{
 "cells": [
  {
   "cell_type": "code",
   "execution_count": 9,
   "id": "7777e164-0c62-4856-ac51-11f922578245",
   "metadata": {},
   "outputs": [
    {
     "name": "stdout",
     "output_type": "stream",
     "text": [
      "0\n",
      "-1\n",
      "1\n",
      "-2\n",
      "2\n",
      "-3\n",
      "[6, 5, 4, 3, 2, 1]\n",
      "3\n"
     ]
    }
   ],
   "source": [
    "# Quiz 2\n",
    "def test (ist):\n",
    "    for i in range (len(ist)//2) :\n",
    "        print (i)\n",
    "        print (-i-1)\n",
    "        ist[i], ist[-i-1] = ist[-i-1], ist[i]\n",
    "ist = [1,2,3,4,5,6]\n",
    "test(ist)\n",
    "print (ist)\n",
    "# [6,5,4,3,2,1]\n",
    "# 6,4,2\n",
    "# 5,3,1\n",
    "print(sum(ist[::2]) - sum(ist[1::2]))"
   ]
  },
  {
   "cell_type": "code",
   "execution_count": 29,
   "id": "279b4182-7dea-4c9b-9be3-f8804c3e775a",
   "metadata": {},
   "outputs": [
    {
     "name": "stdout",
     "output_type": "stream",
     "text": [
      "5\n",
      "20\n",
      "20\n",
      "45\n"
     ]
    }
   ],
   "source": [
    "# Quiz 3\n",
    "def test(v):\n",
    "    if type(v) == type(\"\"):\n",
    "        return len(v)\n",
    "    elif type(v) == type(100):\n",
    "        return 101\n",
    "    else : \n",
    "        return 20\n",
    "a = \"100.0\"\n",
    "b = 100.0\n",
    "c = (100.0, 200.0)\n",
    "print (test(a)) # 5\n",
    "print (test(b)) # 20\n",
    "print (test(c)) # 20\n",
    "print (test(a) + test(b) + test(c))"
   ]
  },
  {
   "cell_type": "code",
   "execution_count": 25,
   "id": "2b3a8275-df75-4707-9276-735b4fceaabf",
   "metadata": {},
   "outputs": [
    {
     "name": "stdout",
     "output_type": "stream",
     "text": [
      "3\n",
      "3\n",
      "ab3 ca3\n"
     ]
    }
   ],
   "source": [
    "# Quiz 7\n",
    "def cnt (str, p):\n",
    "    result = 0;\n",
    "    for i in range(len(str)):\n",
    "        sub = str[i:i+len(p)]\n",
    "        if sub==p:\n",
    "            result += 1\n",
    "    return result\n",
    "str = \"abdcabcabca\" # len(str) == 11\n",
    "p1 = \"ca\"\n",
    "p2 = \"ab\"\n",
    "\n",
    "print (cnt(str,p1)) # 3\n",
    "print (cnt(str,p2)) # 3\n",
    "print (f'ab{cnt(str,p1)} ca{cnt(str,p2)}')"
   ]
  },
  {
   "cell_type": "code",
   "execution_count": 23,
   "id": "fb77765c-d264-40ad-9883-bb3521df1a0a",
   "metadata": {},
   "outputs": [
    {
     "name": "stdout",
     "output_type": "stream",
     "text": [
      "Seynaau\n"
     ]
    }
   ],
   "source": [
    "# Quiz 13\n",
    "a= [\"Seoul\", \"Kyeonggi\", \"Incheon\", \"Daejun\", \"Daegu\", \"Pusan\"]\n",
    "str = \"S\"\n",
    "\n",
    "for i in a :\n",
    "    str = str + i[1]\n",
    "# \"Seynaau\"\n",
    "print (str)"
   ]
  },
  {
   "cell_type": "code",
   "execution_count": null,
   "id": "83805048-5d92-4c65-9a98-757dd5a62b2e",
   "metadata": {},
   "outputs": [],
   "source": []
  }
 ],
 "metadata": {
  "kernelspec": {
   "display_name": "Python 3 (ipykernel)",
   "language": "python",
   "name": "python3"
  },
  "language_info": {
   "codemirror_mode": {
    "name": "ipython",
    "version": 3
   },
   "file_extension": ".py",
   "mimetype": "text/x-python",
   "name": "python",
   "nbconvert_exporter": "python",
   "pygments_lexer": "ipython3",
   "version": "3.12.4"
  }
 },
 "nbformat": 4,
 "nbformat_minor": 5
}
