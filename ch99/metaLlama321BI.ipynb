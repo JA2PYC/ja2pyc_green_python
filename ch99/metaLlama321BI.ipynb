{
  "nbformat": 4,
  "nbformat_minor": 0,
  "metadata": {
    "colab": {
      "provenance": [],
      "mount_file_id": "https://github.com/JA2PYC/ja2pyc_green_python/blob/ch14/ch99/metaLlama321BI.ipynb",
      "authorship_tag": "ABX9TyMxy5hlZH4Mrtr/TjEiBD+u",
      "include_colab_link": true
    },
    "kernelspec": {
      "name": "python3",
      "display_name": "Python 3"
    },
    "language_info": {
      "name": "python"
    }
  },
  "cells": [
    {
      "cell_type": "markdown",
      "metadata": {
        "id": "view-in-github",
        "colab_type": "text"
      },
      "source": [
        "<a href=\"https://colab.research.google.com/github/JA2PYC/ja2pyc_green_python/blob/ch14/ch99/metaLlama321BI.ipynb\" target=\"_parent\"><img src=\"https://colab.research.google.com/assets/colab-badge.svg\" alt=\"Open In Colab\"/></a>"
      ]
    },
    {
      "cell_type": "code",
      "execution_count": 33,
      "metadata": {
        "id": "f7C3DhgLB74t"
      },
      "outputs": [],
      "source": [
        "# Meta Llama 3.2 1B Instruct\n",
        "# Import Deep Learning Library\n",
        "# !pip install sentencepiece\n",
        "\n",
        "import torch as trc\n",
        "import transformers as tfs\n",
        "import os\n",
        "import sentencepiece as spm"
      ]
    },
    {
      "cell_type": "code",
      "source": [
        "# Set Huggingface Model\n",
        "# model_path = 'meta-llama/Llama-3.2-1B-Instruct'\n",
        "# tokenizer = tfs.AutoTokenizer.from_pretrained(model_path)\n",
        "# model = tfs.AutoModelForCausalLM.from_pretrained(model_path, torch_dtype=trc.float16, device_map='auto')\n",
        "# print(model_path)\n",
        "\n",
        "model_path = '/content/drive/MyDrive/Llama/models--meta-llama--Llama-3.2-1B/snapshots/4e20de362430cd3b72f300e6b0f18e50e7166e08'\n",
        "tokenizer = tfs.AutoTokenizer.from_pretrained(model_path)\n",
        "model = tfs.AutoModelForCausalLM.from_pretrained(model_path, torch_dtype=trc.float16, device_map='auto')\n",
        "print(model_path)\n",
        "\n",
        "# Set Model\n",
        "# model_path = '/content/drive/MyDrive/Llama/Llama3.2-1B-Instruct'\n",
        "# model_weights = trc.load(os.path.join(model_path, 'consolidated.00.pth'), map_location='cpu')\n",
        "# print(model_weights)\n",
        "\n",
        "\n",
        "# print(model_weights\n",
        "# sp = spm.SentencePieceProcessor()\n",
        "# sp.load(os.path.join(model_path, 'tokenizer.model'))\n",
        "# tokenizer = tfs.LlamaTokenizer.from_pretrained(model_path)\n",
        "# model = tfs.LlamaForCausalLM.from_pretrained(model_path, torch_dtype=trc.float16, device_map='auto')\n",
        "# print(model_path)\n",
        "# tokenizer = tfs.LlamaTokenizer.from_pretrained(model_path)\n",
        "# model = tfs.AutoModelForCausalLM.from_pretrained(model_path, torch_dtype=trc.float16, device_map='auto')\n",
        "# print(model_path)\n",
        "# tokenizer = tfs.LlamaTokenizer.from_pretrained(model_path)\n",
        "# model = tfs.LlamaForCausalLM.from_pretrained(model_path, torch_dtype=trc.float16, device_map='auto')\n",
        "# print(model_path)\n",
        "# print(os.listdir(model_path))\n",
        "# tokenizer = tfs.LlamaTokenizer.from_pretrained(model_path)\n",
        "# model = tfs.LlamaForCausalLM.from_pretrained(model_path, torch_dtype=trc.float16, device_map='auto')\n",
        "# print(model_path)\n"
      ],
      "metadata": {
        "id": "_RqZmqWGCH0Q",
        "outputId": "b8213027-71c7-4b03-c7d3-5be34af0dbe3",
        "colab": {
          "base_uri": "https://localhost:8080/"
        }
      },
      "execution_count": 34,
      "outputs": [
        {
          "output_type": "stream",
          "name": "stdout",
          "text": [
            "/content/drive/MyDrive/Llama/models--meta-llama--Llama-3.2-1B/snapshots/4e20de362430cd3b72f300e6b0f18e50e7166e08\n"
          ]
        }
      ]
    },
    {
      "cell_type": "code",
      "source": [
        "\n",
        "# 예시 텍스트 입력\n",
        "input_text = \"How can i use llm model llama? Explain it step by step\"\n",
        "\n",
        "# 입력 텍스트 토큰화\n",
        "inputs = tokenizer(input_text, return_tensors=\"pt\")\n",
        "\n",
        "# 텍스트 생성\n",
        "outputs = model.generate(inputs[\"input_ids\"], max_length=50, temperature=0.7, top_p=0.9)\n",
        "\n",
        "# 결과 디코딩 및 출력\n",
        "generated_text = tokenizer.decode(outputs[0], skip_special_tokens=True)\n",
        "print(generated_text)"
      ],
      "metadata": {
        "id": "fdb6WDIKDRfP",
        "outputId": "a80b97b6-e2c8-481c-b582-6370a7d98ab8",
        "colab": {
          "base_uri": "https://localhost:8080/"
        }
      },
      "execution_count": 36,
      "outputs": [
        {
          "output_type": "stream",
          "name": "stderr",
          "text": [
            "The attention mask and the pad token id were not set. As a consequence, you may observe unexpected behavior. Please pass your input's `attention_mask` to obtain reliable results.\n",
            "Setting `pad_token_id` to `eos_token_id`:128001 for open-end generation.\n"
          ]
        },
        {
          "output_type": "stream",
          "name": "stdout",
          "text": [
            "How can i use llm model llama? Explain it step by step.\n",
            "How can i use llm model llama? Explain it step by step.\n",
            "How can i use llm model llama? Explain it step by step.\n",
            "How can i use\n"
          ]
        }
      ]
    },
    {
      "cell_type": "code",
      "source": [],
      "metadata": {
        "id": "qfSHk6xeiJVA"
      },
      "execution_count": null,
      "outputs": []
    }
  ]
}