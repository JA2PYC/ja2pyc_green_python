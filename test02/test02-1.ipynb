{
 "cells": [
  {
   "cell_type": "code",
   "execution_count": 17,
   "id": "73efc260-3d2b-43a3-9350-8717f776f0f7",
   "metadata": {},
   "outputs": [
    {
     "name": "stdin",
     "output_type": "stream",
     "text": [
      "학생의 점수를 입력하세요. 10\n",
      "학생의 점수를 입력하세요. 20\n",
      "학생의 점수를 입력하세요. 30\n",
      "학생의 점수를 입력하세요. 40\n",
      "학생의 점수를 입력하세요. \n"
     ]
    },
    {
     "name": "stdout",
     "output_type": "stream",
     "text": [
      "입력 데이터 출력 : ['10', '20', '30', '40']\n",
      "합계 : 100\n",
      "인원수 : 4\n",
      "평균 : 25.0\n"
     ]
    }
   ],
   "source": [
    "totalScore = []\n",
    "while True:\n",
    "    score = input('학생의 점수를 입력하세요.')\n",
    "    if not score.isdigit() :\n",
    "        break\n",
    "    totalScore.append(score)\n",
    "print(\"입력 데이터 출력 :\", totalScore)\n",
    "\n",
    "sum = 0\n",
    "for i in totalScore:\n",
    "    sum += int(i)\n",
    "\n",
    "print(\"합계 :\", sum)\n",
    "print(\"인원수 :\", len(totalScore))\n",
    "print(\"평균 :\", sum/len(totalScore))"
   ]
  },
  {
   "cell_type": "code",
   "execution_count": null,
   "id": "517b4db6-f9a8-46e5-bdb8-0418e5f8e8ee",
   "metadata": {},
   "outputs": [],
   "source": []
  }
 ],
 "metadata": {
  "kernelspec": {
   "display_name": "Python 3 (ipykernel)",
   "language": "python",
   "name": "python3"
  },
  "language_info": {
   "codemirror_mode": {
    "name": "ipython",
    "version": 3
   },
   "file_extension": ".py",
   "mimetype": "text/x-python",
   "name": "python",
   "nbconvert_exporter": "python",
   "pygments_lexer": "ipython3",
   "version": "3.12.4"
  }
 },
 "nbformat": 4,
 "nbformat_minor": 5
}
