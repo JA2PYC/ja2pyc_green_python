{
 "cells": [
  {
   "cell_type": "code",
   "execution_count": 2,
   "id": "afb09cde-c69c-48c0-81bb-0c2bba5d047e",
   "metadata": {},
   "outputs": [
    {
     "data": {
      "text/plain": [
       "array([1])"
      ]
     },
     "execution_count": 2,
     "metadata": {},
     "output_type": "execute_result"
    }
   ],
   "source": [
    "# Chapter 10 Exercise\n",
    "# Question 2\n",
    "from sklearn import tree\n",
    "x = [[0,1,0,1,1], [0,1,0,0,0], [1,0,1,0,0]]\n",
    "y = [2,2,1]\n",
    "c = tree.DecisionTreeClassifier()\n",
    "c = c.fit(x,y)\n",
    "c.predict([[1,1,1,0,1]])"
   ]
  }
 ],
 "metadata": {
  "kernelspec": {
   "display_name": "Python 3 (ipykernel)",
   "language": "python",
   "name": "python3"
  },
  "language_info": {
   "codemirror_mode": {
    "name": "ipython",
    "version": 3
   },
   "file_extension": ".py",
   "mimetype": "text/x-python",
   "name": "python",
   "nbconvert_exporter": "python",
   "pygments_lexer": "ipython3",
   "version": "3.12.4"
  }
 },
 "nbformat": 4,
 "nbformat_minor": 5
}
