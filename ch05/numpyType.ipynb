{
 "cells": [
  {
   "cell_type": "code",
   "execution_count": 62,
   "id": "59a62eb9-f55c-49ab-b6ce-03783c6fa1ae",
   "metadata": {},
   "outputs": [
    {
     "name": "stdout",
     "output_type": "stream",
     "text": [
      "[0, 2, 4, 6, 8, 10]\n",
      "<class 'int'> 0\n",
      "0\n"
     ]
    }
   ],
   "source": [
    "# Numpy Type\n",
    "n = list (range(0,11,2))\n",
    "print (n)\n",
    "print (type(n[0]), n[0])\n",
    "if isinstance(n[0], int):\n",
    "    print (n[0])"
   ]
  },
  {
   "cell_type": "code",
   "execution_count": null,
   "id": "5b16cb1b-c5fb-4fdc-96e4-75aa857f0d7a",
   "metadata": {},
   "outputs": [],
   "source": []
  }
 ],
 "metadata": {
  "kernelspec": {
   "display_name": "Python 3 (ipykernel)",
   "language": "python",
   "name": "python3"
  },
  "language_info": {
   "codemirror_mode": {
    "name": "ipython",
    "version": 3
   },
   "file_extension": ".py",
   "mimetype": "text/x-python",
   "name": "python",
   "nbconvert_exporter": "python",
   "pygments_lexer": "ipython3",
   "version": "3.12.4"
  }
 },
 "nbformat": 4,
 "nbformat_minor": 5
}
