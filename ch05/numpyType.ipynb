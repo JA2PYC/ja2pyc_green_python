{
 "cells": [
  {
   "cell_type": "code",
   "execution_count": 2,
   "id": "59a62eb9-f55c-49ab-b6ce-03783c6fa1ae",
   "metadata": {},
   "outputs": [
    {
     "name": "stdout",
     "output_type": "stream",
     "text": [
      "[0, 2, 4, 6, 8, 10]\n",
      "<class 'int'> 0\n",
      "0\n"
     ]
    },
    {
     "ename": "TypeError",
     "evalue": "'float' object cannot be interpreted as an integer",
     "output_type": "error",
     "traceback": [
      "\u001b[1;31m---------------------------------------------------------------------------\u001b[0m",
      "\u001b[1;31mTypeError\u001b[0m                                 Traceback (most recent call last)",
      "Cell \u001b[1;32mIn[2], line 7\u001b[0m\n\u001b[0;32m      5\u001b[0m \u001b[38;5;28;01mif\u001b[39;00m \u001b[38;5;28misinstance\u001b[39m(n[\u001b[38;5;241m0\u001b[39m], \u001b[38;5;28mint\u001b[39m):\n\u001b[0;32m      6\u001b[0m     \u001b[38;5;28mprint\u001b[39m (n[\u001b[38;5;241m0\u001b[39m])\n\u001b[1;32m----> 7\u001b[0m f \u001b[38;5;241m=\u001b[39m \u001b[38;5;28mlist\u001b[39m (\u001b[38;5;28mrange\u001b[39m(\u001b[38;5;241m0\u001b[39m, \u001b[38;5;241m1.1\u001b[39m, \u001b[38;5;241m0.2\u001b[39m))\n",
      "\u001b[1;31mTypeError\u001b[0m: 'float' object cannot be interpreted as an integer"
     ]
    }
   ],
   "source": [
    "# Numpy Type\n",
    "n = list (range(0,11,2))\n",
    "print (n)\n",
    "print (type(n[0]), n[0])\n",
    "if isinstance(n[0], int):\n",
    "    print (n[0])\n",
    "# f = list (range(0, 1.1, 0.2)) # Type Error"
   ]
  },
  {
   "cell_type": "code",
   "execution_count": 24,
   "id": "5b16cb1b-c5fb-4fdc-96e4-75aa857f0d7a",
   "metadata": {},
   "outputs": [
    {
     "name": "stdout",
     "output_type": "stream",
     "text": [
      "<class 'numpy.ndarray'> [ 0  2  4  6  8 10]\n",
      "<class 'numpy.ndarray'> [0.  0.2 0.4 0.6 0.8 1. ]\n"
     ]
    }
   ],
   "source": [
    "# Numpy Array\n",
    "# Import Numpy\n",
    "import numpy as np\n",
    "# Int\n",
    "nArr = np.arange( 0, 11, 2)\n",
    "print (type(nArr), nArr)\n",
    "# Float\n",
    "fArr = np.arange(0, 1.1, 0.2)\n",
    "print ( type (fArr), fArr)"
   ]
  },
  {
   "cell_type": "code",
   "execution_count": 28,
   "id": "ca8f543c-8300-46f1-b91f-6504dd7a7ef4",
   "metadata": {},
   "outputs": [
    {
     "name": "stdout",
     "output_type": "stream",
     "text": [
      "<class 'list'> [0, 2, 4, 6, 8, 10]\n",
      "<class 'list'> [2, 4, 6, 8, 10, 12]\n"
     ]
    }
   ],
   "source": [
    "# List Calculation\n",
    "n = list(range (0, 11, 2))\n",
    "print (type(n), n)\n",
    "for i in range (len(n)):\n",
    "    n[i] = n[i] + 2\n",
    "print (type(n), n)"
   ]
  },
  {
   "cell_type": "code",
   "execution_count": 42,
   "id": "1a6ec016-7275-4f89-89ce-a2481f6dce64",
   "metadata": {},
   "outputs": [
    {
     "name": "stdout",
     "output_type": "stream",
     "text": [
      "<class 'numpy.ndarray'> [0.  0.2 0.4 0.6 0.8 1. ]\n",
      "<class 'numpy.ndarray'> [1. 1. 1. 1. 1. 1.]\n",
      "<class 'numpy.ndarray'> [0.1 0.3 0.5 0.7 0.9 1.1]\n",
      "<class 'numpy.ndarray'> [1.  1.2 1.4 1.6 1.8 2. ]\n"
     ]
    }
   ],
   "source": [
    "# Numpy Calculation\n",
    "import numpy as np\n",
    "nArr = np.arange(0, 1.1, .2)\n",
    "oArr = np.ones(6)\n",
    "print (type(nArr), nArr)\n",
    "print (type(oArr), oArr)\n",
    "print (type(nArr), nArr + .1)\n",
    "print (type(oArr), nArr + oArr)"
   ]
  },
  {
   "cell_type": "code",
   "execution_count": 48,
   "id": "f93e36f7-87ab-4d89-8fec-4864889d80e3",
   "metadata": {},
   "outputs": [
    {
     "name": "stdout",
     "output_type": "stream",
     "text": [
      "<class 'numpy.ndarray'> [0.  0.2 0.4 0.6 0.8 1. ]\n",
      "합 : 3.6\n",
      "평균 : 0.6\n",
      "최대 : 1.1\n",
      "최소 : 0.1\n",
      "분산 : 0.1166666666666667\n",
      "표준편차 : 0.34156502553198664\n"
     ]
    }
   ],
   "source": [
    "# Numpy Math\n",
    "import numpy as np\n",
    "nArr = np.arange(0, 1.1, .2)\n",
    "print (type(nArr), nArr)\n",
    "nArr = nArr + 0.1\n",
    "print (\"합 :\", np.sum(nArr))\n",
    "print (\"평균 :\", np.mean(nArr))\n",
    "print (\"최대 :\", np.max(nArr))\n",
    "print (\"최소 :\", np.min(nArr))\n",
    "print (\"분산 :\", np.var(nArr))\n",
    "print (\"표준편차 :\", np.std(nArr))"
   ]
  },
  {
   "cell_type": "code",
   "execution_count": 52,
   "id": "1e77dadc-8b1f-4899-ad53-f6743ed02ec2",
   "metadata": {},
   "outputs": [
    {
     "name": "stdout",
     "output_type": "stream",
     "text": [
      "<class 'numpy.ndarray'> [1 2 3]\n",
      "<class 'numpy.ndarray'> [1.2 2.3 3.4]\n",
      "<class 'numpy.ndarray'> [[1 2 3]\n",
      " [4 5 6]]\n"
     ]
    }
   ],
   "source": [
    "# Numpy Array\n",
    "import numpy as np\n",
    "lArr = np.array([1,2,3])\n",
    "tArr = np.array((1.2, 2.3, 3.4))\n",
    "lnArr = np.array([[1,2,3], [4,5,6]])\n",
    "print (type (lArr), lArr)\n",
    "print (type (tArr), tArr)\n",
    "print (type (lnArr), lnArr)\n"
   ]
  },
  {
   "cell_type": "code",
   "execution_count": 56,
   "id": "0937540c-7c3a-44d5-b535-6edd1e1f9892",
   "metadata": {},
   "outputs": [
    {
     "name": "stdout",
     "output_type": "stream",
     "text": [
      "<class 'numpy.ndarray'> [1 2 3 4 5 6 7 8 9]\n",
      "<class 'numpy.ndarray'> [1 3 5 7 9]\n",
      "<class 'numpy.ndarray'> [0.  0.3 0.6 0.9]\n"
     ]
    }
   ],
   "source": [
    "# Numpy Method\n",
    "import numpy as np\n",
    "aArr = np.arange(1, 10)\n",
    "bArr = np.arange(1, 10, 2)\n",
    "cArr = np.linspace(0, 0.9, 4)\n",
    "print (type(aArr), aArr)\n",
    "print (type(bArr), bArr)\n",
    "print (type(cArr), cArr)"
   ]
  },
  {
   "cell_type": "code",
   "execution_count": 66,
   "id": "d19d0db5-ad1b-4b08-a1c3-910a4e57a1bc",
   "metadata": {},
   "outputs": [
    {
     "name": "stdout",
     "output_type": "stream",
     "text": [
      "<class 'numpy.ndarray'> [0. 0. 0.]\n",
      "<class 'numpy.ndarray'> [[0 0 0]\n",
      " [0 0 0]]\n",
      "<class 'numpy.ndarray'> [[1. 1.]\n",
      " [1. 1.]]\n",
      "<class 'numpy.ndarray'> [-5.91435677e+303  8.52162327e-102]\n"
     ]
    }
   ],
   "source": [
    "# Numpy Method zeros, ones, empty\n",
    "import numpy as np\n",
    "aArr = np.zeros(3)\n",
    "bArr = np.zeros([2,3], dtype=int)\n",
    "cArr = np.ones([2,2])\n",
    "dArr = np.empty(2)\n",
    "print (type(aArr), aArr)\n",
    "print (type(bArr), bArr)\n",
    "print (type(cArr), cArr)\n",
    "print (type(dArr), dArr)"
   ]
  },
  {
   "cell_type": "code",
   "execution_count": 76,
   "id": "1cb133ef-af75-44b0-a332-58b38d357939",
   "metadata": {},
   "outputs": [
    {
     "name": "stdout",
     "output_type": "stream",
     "text": [
      "<class 'numpy.ndarray'> [0.93000081 0.257899   0.01669628 0.23523607 0.79620031]\n",
      "<class 'numpy.ndarray'> [ 0.66491396 -1.78034438 -1.31647777 -0.09670234  1.32744766]\n",
      "<class 'numpy.ndarray'> [7 4 3]\n",
      "<class 'numpy.ndarray'> [[2 7]\n",
      " [1 3]]\n"
     ]
    }
   ],
   "source": [
    "# Numpy Method rand, randn, randint\n",
    "import numpy as np\n",
    "aArr = np.random.rand(5)\n",
    "bArr = np.random.randn(5)\n",
    "cArr = np.random.randint(1, 10, size=3)\n",
    "dArr = np.random.randint(10, size=(2,2))\n",
    "print (type(aArr), aArr)\n",
    "print (type(bArr), bArr)\n",
    "print (type(cArr), cArr)\n",
    "print (type(dArr), dArr)"
   ]
  },
  {
   "cell_type": "code",
   "execution_count": 84,
   "id": "a00dab99-5bf6-42c1-adbb-62162ce8e531",
   "metadata": {},
   "outputs": [
    {
     "name": "stdout",
     "output_type": "stream",
     "text": [
      "<class 'numpy.ndarray'> [[1. 1. 1. 1.]\n",
      " [1. 1. 1. 1.]\n",
      " [1. 1. 1. 1.]]\n",
      "size : 12\n",
      "dtype : float64\n",
      "shape : (3, 4)\n",
      "ndim : 2\n"
     ]
    }
   ],
   "source": [
    "# Numpy Attributes\n",
    "import numpy as np\n",
    "aArr = np.ones([3,4])\n",
    "print (type(aArr), aArr)\n",
    "print (\"size :\", aArr.size)\n",
    "print (\"dtype :\", aArr.dtype)\n",
    "print (\"shape :\", aArr.shape)\n",
    "print (\"ndim :\", aArr.ndim)"
   ]
  },
  {
   "cell_type": "code",
   "execution_count": 94,
   "id": "9cd16839-fad6-451d-b9aa-a2186ec39c38",
   "metadata": {},
   "outputs": [
    {
     "name": "stdout",
     "output_type": "stream",
     "text": [
      "<class 'numpy.ndarray'> [[1 2 3]\n",
      " [4 5 6]\n",
      " [7 8 9]]\n",
      "[1 2 3]\n",
      "3\n",
      "3\n",
      "[[4 5 6]\n",
      " [7 8 9]]\n",
      "[6 7 8 9]\n"
     ]
    }
   ],
   "source": [
    "# Numpy Index, Slice\n",
    "import numpy as np\n",
    "aArr = np.array([[1, 2, 3], [4, 5, 6], [7, 8, 9]])\n",
    "print (type(aArr), aArr)\n",
    "print (aArr[0])\n",
    "print (aArr[0][2])\n",
    "print (aArr[0,2])\n",
    "print (aArr[1:])\n",
    "print (aArr[aArr > 5])"
   ]
  },
  {
   "cell_type": "code",
   "execution_count": 106,
   "id": "d0013b38-a1a5-475b-a6cc-989a9beca8ad",
   "metadata": {},
   "outputs": [
    {
     "name": "stdout",
     "output_type": "stream",
     "text": [
      "<class 'numpy.ndarray'> [[1 2 3]\n",
      " [4 5 6]]\n",
      "<class 'numpy.ndarray'> [[1 4]\n",
      " [2 5]\n",
      " [3 6]]\n",
      "<class 'numpy.ndarray'> [[1 2]\n",
      " [3 4]\n",
      " [5 6]]\n",
      "<class 'numpy.ndarray'> [1 2 3 4 5 6]\n"
     ]
    }
   ],
   "source": [
    "# Numpy transpose, reshape, flatten\n",
    "import numpy as np\n",
    "aArr = np.array([[1, 2, 3], [4, 5, 6]])\n",
    "bArr = aArr.transpose()\n",
    "cArr = aArr.reshape(3,2)\n",
    "dArr = aArr.flatten()\n",
    "print (type(aArr), aArr)\n",
    "print (type(bArr), bArr)\n",
    "print (type(cArr), cArr)\n",
    "print (type(dArr), dArr)"
   ]
  },
  {
   "cell_type": "code",
   "execution_count": null,
   "id": "7df3ca3d-d2e6-4ac0-8e84-bae8e58ed1ee",
   "metadata": {},
   "outputs": [],
   "source": []
  }
 ],
 "metadata": {
  "kernelspec": {
   "display_name": "Python 3 (ipykernel)",
   "language": "python",
   "name": "python3"
  },
  "language_info": {
   "codemirror_mode": {
    "name": "ipython",
    "version": 3
   },
   "file_extension": ".py",
   "mimetype": "text/x-python",
   "name": "python",
   "nbconvert_exporter": "python",
   "pygments_lexer": "ipython3",
   "version": "3.12.4"
  }
 },
 "nbformat": 4,
 "nbformat_minor": 5
}
