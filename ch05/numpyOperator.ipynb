{
 "cells": [
  {
   "cell_type": "code",
   "execution_count": 9,
   "id": "cea6d6e5-c741-4b21-bfed-80290f0c85fe",
   "metadata": {},
   "outputs": [
    {
     "name": "stdout",
     "output_type": "stream",
     "text": [
      "<class 'numpy.ndarray'> [1 2 3 4]\n",
      "<class 'numpy.ndarray'> [1. 1. 1. 1.]\n",
      "[1 2 3 4] [1. 1. 1. 1.]\n",
      "[2. 3. 4. 5.]\n",
      "[0. 1. 2. 3.]\n",
      "[False  True  True  True]\n"
     ]
    }
   ],
   "source": [
    "# Numpy Operator\n",
    "import numpy as np\n",
    "aArr = np.arange(1,5)\n",
    "bArr = np.ones(4)\n",
    "print (type(aArr), aArr)\n",
    "print (type(bArr), bArr)\n",
    "print (aArr, bArr)\n",
    "print (aArr + bArr)\n",
    "print (aArr - bArr)\n",
    "print (aArr > bArr)"
   ]
  },
  {
   "cell_type": "code",
   "execution_count": 19,
   "id": "bffc57bb-39da-412c-b09b-4c109bc82de7",
   "metadata": {},
   "outputs": [
    {
     "name": "stdout",
     "output_type": "stream",
     "text": [
      "<class 'numpy.ndarray'> [6 0 3 4]\n",
      "[8 2 5 6]\n",
      "[12  0  6  8]\n",
      "[3.  0.  1.5 2. ]\n",
      "[3 0 1 2]\n",
      "[0 0 1 0]\n"
     ]
    }
   ],
   "source": [
    "# Numpy *, /, //, %\n",
    "import numpy as np\n",
    "aArr = np.random.randint(11, size = 4)\n",
    "print (type(aArr) , aArr)\n",
    "print (aArr + 2)\n",
    "print (aArr * 2)\n",
    "print (aArr / 2)\n",
    "print (aArr // 2)\n",
    "print (aArr % 2)"
   ]
  },
  {
   "cell_type": "code",
   "execution_count": 38,
   "id": "7a913162-6a83-4a83-9aac-1b5488a821e0",
   "metadata": {},
   "outputs": [
    {
     "name": "stdout",
     "output_type": "stream",
     "text": [
      "<class 'numpy.ndarray'> [-5 -6  3 -7  1]\n",
      "max : 3\n",
      "min : -7\n",
      "sum : -14\n",
      "mean : -2.8\n",
      "var : 16.16\n",
      "std : 4.019950248448356\n",
      "abs : [5 6 3 7 1]\n",
      "rint : [-5. -6.  3. -7.  1.]\n",
      "floor : [-5. -6.  3. -7.  1.]\n"
     ]
    }
   ],
   "source": [
    "# Numpy Universial Method\n",
    "import numpy as np\n",
    "aArr = np.random.randint(-10, 11, size=5)\n",
    "print (type(aArr), aArr)\n",
    "print (\"max :\", np.max(aArr))\n",
    "print (\"min :\", np.min(aArr))\n",
    "print (\"sum :\", np.sum(aArr))\n",
    "print (\"mean :\", np.mean(aArr))\n",
    "print (\"var :\", np.var(aArr))\n",
    "print (\"std :\", np.std(aArr))\n",
    "print (\"abs :\", np.abs(aArr))\n",
    "print (\"rint :\", np.rint(aArr))\n",
    "print (\"floor :\", np.floor(aArr))\n",
    "# print (\"sqrt :\", np.sqrt(aArr))\n"
   ]
  },
  {
   "cell_type": "code",
   "execution_count": 48,
   "id": "2dd1e109-2989-4365-b5d3-3d14096b4b41",
   "metadata": {},
   "outputs": [
    {
     "name": "stdout",
     "output_type": "stream",
     "text": [
      "<class 'numpy.ndarray'> [20 30 60]\n",
      "<class 'numpy.ndarray'> [60 40 90]\n",
      "<class 'numpy.ndarray'> [ 80  70 150]\n",
      "<class 'numpy.ndarray'> [40. 35. 75.]\n",
      "a 평균 : 36.666666666666664\n"
     ]
    }
   ],
   "source": [
    "# Numpy Array Practice\n",
    "import numpy as np\n",
    "aScore = np.array([20, 30, 60])\n",
    "bScore = np.array([60, 40, 90])\n",
    "print (type(aScore), aScore)\n",
    "print (type(bScore), bScore)\n",
    "cTotal = aScore + bScore\n",
    "dAvg = cTotal / 2\n",
    "print (type(cTotal), cTotal)\n",
    "print (type(dAvg), dAvg)\n",
    "print (\"a 평균 :\", np.mean(aScore))"
   ]
  },
  {
   "cell_type": "code",
   "execution_count": null,
   "id": "a4e82ca2-fba0-498d-b0da-c7a58316a97c",
   "metadata": {},
   "outputs": [],
   "source": []
  }
 ],
 "metadata": {
  "kernelspec": {
   "display_name": "Python 3 (ipykernel)",
   "language": "python",
   "name": "python3"
  },
  "language_info": {
   "codemirror_mode": {
    "name": "ipython",
    "version": 3
   },
   "file_extension": ".py",
   "mimetype": "text/x-python",
   "name": "python",
   "nbconvert_exporter": "python",
   "pygments_lexer": "ipython3",
   "version": "3.12.4"
  }
 },
 "nbformat": 4,
 "nbformat_minor": 5
}
