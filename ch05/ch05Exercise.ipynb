{
 "cells": [
  {
   "cell_type": "code",
   "execution_count": 4,
   "id": "04149764-c7ac-4d03-b286-e06d57e21466",
   "metadata": {},
   "outputs": [
    {
     "name": "stdout",
     "output_type": "stream",
     "text": [
      "<class 'numpy.ndarray'> [[1 2 3]\n",
      " [4 5 6]]\n",
      "<class 'numpy.ndarray'> [ 2  4  6  8 10 12]\n"
     ]
    }
   ],
   "source": [
    "# Chapter 5 Exercise\n",
    "# Question 1\n",
    "import numpy as np\n",
    "a = np.array([[1,2,3], [4,5,6]])\n",
    "b = a.flatten() * 2\n",
    "print (type(a), a)\n",
    "print (type(b), b)\n"
   ]
  },
  {
   "cell_type": "code",
   "execution_count": 6,
   "id": "3e563dd8-e703-4931-a392-f6983e96ed04",
   "metadata": {},
   "outputs": [
    {
     "name": "stdout",
     "output_type": "stream",
     "text": [
      "<class 'numpy.ndarray'> [ 5 10 15 20 25 30]\n"
     ]
    }
   ],
   "source": [
    "# Question 3\n",
    "import numpy as np\n",
    "a = np.arange(5, 31, 5)\n",
    "print (type(a), a)\n"
   ]
  },
  {
   "cell_type": "code",
   "execution_count": 18,
   "id": "7336926d-7326-48fc-8b16-d4961b47fbd7",
   "metadata": {},
   "outputs": [
    {
     "name": "stdout",
     "output_type": "stream",
     "text": [
      "<class 'numpy.ndarray'> [[0 0 0]\n",
      " [0 0 0]]\n",
      "shape : (2, 3)\n",
      "ndim : 2\n",
      "dtype : int32\n",
      "size : 6\n"
     ]
    }
   ],
   "source": [
    "# Question 4\n",
    "import numpy as np\n",
    "a = np.zeros([2,3], dtype=int)\n",
    "print (type(a), a)\n",
    "print (\"shape :\", a.shape)\n",
    "print (\"ndim :\", a.ndim)\n",
    "print (\"dtype :\", a.dtype)\n",
    "print (\"size :\", a.size)"
   ]
  },
  {
   "cell_type": "code",
   "execution_count": 24,
   "id": "cf5cd034-188d-47e5-a973-349fb093d6e7",
   "metadata": {},
   "outputs": [
    {
     "name": "stdout",
     "output_type": "stream",
     "text": [
      "<class 'numpy.ndarray'> [[1 2 3]\n",
      " [4 5 6]\n",
      " [7 8 9]]\n",
      "[4 5 6]\n",
      "9\n",
      "[[4 5 6]\n",
      " [7 8 9]]\n",
      "[1 2 3 4 5]\n"
     ]
    }
   ],
   "source": [
    "# Question 5\n",
    "import numpy as np\n",
    "a = np.array([[1,2,3], [4,5,6], [7,8,9]])\n",
    "print (type(a), a)\n",
    "print (a[1])\n",
    "print (a[2,2])\n",
    "print (a[1:3])\n",
    "print (a[a<=5])"
   ]
  },
  {
   "cell_type": "code",
   "execution_count": null,
   "id": "4c46d8a4-5f8e-4660-aa8a-47e9825f11d5",
   "metadata": {},
   "outputs": [],
   "source": []
  }
 ],
 "metadata": {
  "kernelspec": {
   "display_name": "Python 3 (ipykernel)",
   "language": "python",
   "name": "python3"
  },
  "language_info": {
   "codemirror_mode": {
    "name": "ipython",
    "version": 3
   },
   "file_extension": ".py",
   "mimetype": "text/x-python",
   "name": "python",
   "nbconvert_exporter": "python",
   "pygments_lexer": "ipython3",
   "version": "3.12.4"
  }
 },
 "nbformat": 4,
 "nbformat_minor": 5
}
