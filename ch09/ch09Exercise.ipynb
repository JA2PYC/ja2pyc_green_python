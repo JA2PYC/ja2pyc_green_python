{
 "cells": [
  {
   "cell_type": "code",
   "execution_count": 25,
   "id": "0285c72f-5220-4de7-adb1-97ded4b4470b",
   "metadata": {},
   "outputs": [
    {
     "data": {
      "text/plain": [
       "sex     alive\n",
       "female  no        81\n",
       "        yes      233\n",
       "male    no       468\n",
       "        yes      109\n",
       "Name: sex, dtype: int64"
      ]
     },
     "execution_count": 25,
     "metadata": {},
     "output_type": "execute_result"
    }
   ],
   "source": [
    "# Chapter 9 Exercise\n",
    "# Question 1\n",
    "import pandas as pd\n",
    "import matplotlib.pyplot as plt\n",
    "import seaborn as sb\n",
    "df = sb.load_dataset('titanic')\n",
    "df.groupby(['sex', 'alive'])['sex'].count()"
   ]
  },
  {
   "cell_type": "code",
   "execution_count": null,
   "id": "bde397a2-833a-45b6-b198-9340838f6193",
   "metadata": {},
   "outputs": [],
   "source": []
  }
 ],
 "metadata": {
  "kernelspec": {
   "display_name": "Python 3 (ipykernel)",
   "language": "python",
   "name": "python3"
  },
  "language_info": {
   "codemirror_mode": {
    "name": "ipython",
    "version": 3
   },
   "file_extension": ".py",
   "mimetype": "text/x-python",
   "name": "python",
   "nbconvert_exporter": "python",
   "pygments_lexer": "ipython3",
   "version": "3.12.4"
  }
 },
 "nbformat": 4,
 "nbformat_minor": 5
}
