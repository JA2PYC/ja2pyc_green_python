{
 "cells": [
  {
   "cell_type": "code",
   "execution_count": 6,
   "id": "5446bb72-a1b8-49f0-9bcf-c9af903f9187",
   "metadata": {},
   "outputs": [
    {
     "name": "stdout",
     "output_type": "stream",
     "text": [
      "<class 'list'> [10, 20, 30, 40]\n",
      "<class 'int'> 10\n",
      "<class 'list'> ['one', 'two', 'three', 'four']\n",
      "<class 'list'> [10, 20, 'one', 'two']\n",
      "<class 'list'> [10, 20, ['one', 'two']]\n"
     ]
    }
   ],
   "source": [
    "# Create List\n",
    "a = [10, 20, 30, 40]\n",
    "b = ['one', 'two', 'three', 'four']\n",
    "c = [10, 20, 'one', 'two']\n",
    "d = [10, 20, ['one', 'two']]\n",
    "print (type(a), a)\n",
    "print (type(a[0]), a[0])\n",
    "print (type(b), b)\n",
    "print (type(c), c)\n",
    "print (type(d), d)"
   ]
  },
  {
   "cell_type": "code",
   "execution_count": 10,
   "id": "6cbe66dd-d25f-48a5-85a6-d3e089b896c1",
   "metadata": {},
   "outputs": [
    {
     "name": "stdout",
     "output_type": "stream",
     "text": [
      "<class 'int'> 1\n",
      "<class 'list'> []\n"
     ]
    }
   ],
   "source": [
    "# Empty List\n",
    "a = []\n",
    "b = list()\n",
    "print (type(a), a)\n",
    "print (type(b), b)\n"
   ]
  },
  {
   "cell_type": "code",
   "execution_count": 18,
   "id": "1d8a2e3d-8a58-485f-841e-e647d6be5f93",
   "metadata": {},
   "outputs": [
    {
     "name": "stdout",
     "output_type": "stream",
     "text": [
      "[10, 20, 30, 40]\n",
      "10 40\n",
      "[20, 30]\n"
     ]
    }
   ],
   "source": [
    "# Use List\n",
    "a = [10, 20, 30, 40]\n",
    "print (a)\n",
    "print (a[0], a[3])\n",
    "print(a[1:3])"
   ]
  },
  {
   "cell_type": "code",
   "execution_count": 28,
   "id": "0abac81b-f665-4d72-a53d-e0153944df88",
   "metadata": {},
   "outputs": [
    {
     "name": "stdout",
     "output_type": "stream",
     "text": [
      "['감', '사과']\n"
     ]
    }
   ],
   "source": [
    "# Change List Value\n",
    "f = ['배', '사과']\n",
    "f[0] = '감'\n",
    "# f[2] = '복숭아' # IndexError\n",
    "print(f)"
   ]
  },
  {
   "cell_type": "code",
   "execution_count": 32,
   "id": "0ea406c0-2945-4899-b45c-77a7eb2fe716",
   "metadata": {},
   "outputs": [
    {
     "name": "stdout",
     "output_type": "stream",
     "text": [
      "[20]\n",
      "[20, 30]\n",
      "[10, 20, 30]\n",
      "[10, 20, 30, 40, 50]\n",
      "[1, 2]\n",
      "[10, 20, 30, 40, 50, 1, 2]\n"
     ]
    }
   ],
   "source": [
    "# List Method append, insert, extend, +\n",
    "x = [20]\n",
    "print(x)\n",
    "x.append(30)\n",
    "print(x)\n",
    "x.insert(0,10)\n",
    "print(x)\n",
    "x.extend([40,50])\n",
    "print(x)\n",
    "y = [1,2]\n",
    "print(y)\n",
    "z = x+y\n",
    "print(z)"
   ]
  },
  {
   "cell_type": "code",
   "execution_count": 36,
   "id": "0b943640-bf14-44fc-a43f-9b028912f88a",
   "metadata": {},
   "outputs": [
    {
     "name": "stdout",
     "output_type": "stream",
     "text": [
      "[10, 20, 30, 40]\n",
      "[20, 30, 40]\n",
      "[20, 30]\n",
      "[]\n"
     ]
    }
   ],
   "source": [
    "# List Method pop, remove, clear\n",
    "x = [10,20,30,40]\n",
    "print(x)\n",
    "x.remove(10)\n",
    "print(x)\n",
    "x.pop(2)\n",
    "print(x)\n",
    "x.clear()\n",
    "print(x)"
   ]
  },
  {
   "cell_type": "code",
   "execution_count": 44,
   "id": "0dc43883-1179-4567-b11c-665b475681d7",
   "metadata": {},
   "outputs": [
    {
     "name": "stdout",
     "output_type": "stream",
     "text": [
      "2\n",
      "3\n"
     ]
    }
   ],
   "source": [
    "# List Method index, count\n",
    "x = [10, 20, 30, 40, 50, 10, 10]\n",
    "print(x.index(30))\n",
    "print(x.count(10))"
   ]
  },
  {
   "cell_type": "code",
   "execution_count": 46,
   "id": "dcf8705a-9ac6-41ff-9085-fded5427f214",
   "metadata": {},
   "outputs": [
    {
     "name": "stdout",
     "output_type": "stream",
     "text": [
      "Python이 List에 있습니다.\n",
      "Python\n",
      "Java\n",
      "C#\n",
      "PHP\n"
     ]
    }
   ],
   "source": [
    "# List if for\n",
    "개설과목  = ['Python', 'Java', 'C#', 'PHP']\n",
    "if 'Python' in 개설과목:\n",
    "    print ('Python이 List에 있습니다.')\n",
    "for 과목 in 개설과목:\n",
    "    print(과목)"
   ]
  },
  {
   "cell_type": "code",
   "execution_count": 52,
   "id": "0b369a11-00b2-4fc0-bf0f-a741f9e92995",
   "metadata": {},
   "outputs": [
    {
     "name": "stdout",
     "output_type": "stream",
     "text": [
      "최소값 : 10\n",
      "최대값 : 40\n",
      "합 계 : 100\n",
      "길 이 : 4\n"
     ]
    }
   ],
   "source": [
    "# List Function min, max, sum, len\n",
    "a = [10, 20, 30, 40]\n",
    "print (\"최소값 :\", min(a))\n",
    "print (\"최대값 :\", max(a))\n",
    "print (\"합 계 :\", sum(a))\n",
    "print (\"길 이 :\", len(a))"
   ]
  },
  {
   "cell_type": "code",
   "execution_count": 109,
   "id": "c68fb314-7111-440f-a179-5add1e958635",
   "metadata": {},
   "outputs": [
    {
     "name": "stdout",
     "output_type": "stream",
     "text": [
      "---------- a ----------\n",
      "['10', '20', '30', '40']\n",
      "---------- b ----------\n",
      "<map object at 0x000001AE76A2A170>\n",
      "---------- c ----------\n",
      "[10, 20, 30, 40]\n",
      "0\n",
      "100\n",
      "---------- after c ----------\n",
      "['10', '20', '30', '40']\n",
      "<map object at 0x000001AE76A2A170>\n",
      "[10, 20, 30, 40]\n",
      "0\n",
      "100\n",
      "---------- d ----------\n",
      "[10, 20, 30, 40]\n"
     ]
    }
   ],
   "source": [
    "print ('---------- a ----------')\n",
    "a = ['10', '20', '30', '40']\n",
    "# print (sum(a)) # TypeError\n",
    "print (a)\n",
    "print ('---------- b ----------')\n",
    "b = map(int,a)\n",
    "print (b)\n",
    "#print (sum(b))\n",
    "print ('---------- c ----------')\n",
    "c = list(b)\n",
    "print (c)\n",
    "print (sum(b))\n",
    "print (sum(c))\n",
    "print ('---------- after c ----------')\n",
    "print (a)\n",
    "print (b)\n",
    "print (c)\n",
    "print (sum(b))\n",
    "print (sum(c))\n",
    "print ('---------- d ----------')\n",
    "d = list(map(int, a))\n",
    "print (d)"
   ]
  },
  {
   "cell_type": "code",
   "execution_count": 127,
   "id": "2fb1639b-2d98-47c7-953e-d67f4704e8d6",
   "metadata": {},
   "outputs": [
    {
     "name": "stdout",
     "output_type": "stream",
     "text": [
      "[0, 0, 0, 0, 0]\n",
      "[1, 2, 1, 2, 1, 2, 1, 2, 1, 2]\n",
      "[0, 0, 0, 0, 0, 0, 0, 0, 0, 0]\n",
      "[1, 1, 1, 1, 1, 1, 1, 1, 1, 1, 1, 1, 1, 1, 1]\n",
      "[2, 2, 2, 2, 2, 2, 2, 2, 2, 2, 2, 2, 2, 2, 2, 2, 2, 2, 2, 2]\n",
      "[0, 1, 2, 3, 4]\n",
      "[5, 6, 7, 8, 9]\n",
      "[0, 15, 30, 45]\n",
      "['0', '15', '30', '45']\n"
     ]
    }
   ],
   "source": [
    "# List Comprehension\n",
    "x = [0] * 5\n",
    "print (x)\n",
    "y = [1, 2] * 5\n",
    "print (y)\n",
    "z = [0 for i in range (10)]\n",
    "print (z)\n",
    "f = [1 for _ in range (15)]\n",
    "print (f)\n",
    "g = list(2 for i in range (20))\n",
    "print (g)\n",
    "h = [i for i in range (5)]\n",
    "print (h)\n",
    "i = [i+5 for i in range (5)]\n",
    "print (i)\n",
    "j = [i*5 for i in range (0, 10, 3)]\n",
    "print (j)\n",
    "k = [str(i * 5) for i in range (0, 10, 3)]\n",
    "print (k)"
   ]
  },
  {
   "cell_type": "code",
   "execution_count": 199,
   "id": "acfe8e11-c08f-4bc2-b0f0-b5cbcca1ce23",
   "metadata": {},
   "outputs": [
    {
     "name": "stdout",
     "output_type": "stream",
     "text": [
      "<class 'list'> ['바', '보']\n",
      "<class 'list'> ['바', '보']\n"
     ]
    }
   ],
   "source": [
    "# Print Special Char\n",
    "x = [chr(i) for i in [48148, 48372]]\n",
    "print (type(x), x)\n",
    "y = [str(i) for i in [chr(x) for x in [48148, 48372]]]\n",
    "print (type(y), y)"
   ]
  },
  {
   "cell_type": "code",
   "execution_count": null,
   "id": "e809f7b1-8393-4ba8-bb7f-ee81f092b9b2",
   "metadata": {},
   "outputs": [],
   "source": []
  }
 ],
 "metadata": {
  "kernelspec": {
   "display_name": "Python 3 (ipykernel)",
   "language": "python",
   "name": "python3"
  },
  "language_info": {
   "codemirror_mode": {
    "name": "ipython",
    "version": 3
   },
   "file_extension": ".py",
   "mimetype": "text/x-python",
   "name": "python",
   "nbconvert_exporter": "python",
   "pygments_lexer": "ipython3",
   "version": "3.12.4"
  }
 },
 "nbformat": 4,
 "nbformat_minor": 5
}
