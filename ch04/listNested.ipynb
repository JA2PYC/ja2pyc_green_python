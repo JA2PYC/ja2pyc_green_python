{
 "cells": [
  {
   "cell_type": "code",
   "execution_count": 6,
   "id": "9df36ea4-3875-48cf-89fa-36be1af8f118",
   "metadata": {},
   "outputs": [
    {
     "name": "stdout",
     "output_type": "stream",
     "text": [
      "[[29, 28, 27, 30], [30, 20, 27, 29], [23, 25, 29, 30]]\n",
      "[29, 28, 27, 30]\n",
      "27\n"
     ]
    }
   ],
   "source": [
    "# Nested List Comprehension\n",
    "score = [[29,28,27,30], [30,20,27,29], [23,25,29,30]]\n",
    "print (score)\n",
    "print (score[0])\n",
    "print (score[1][2])"
   ]
  },
  {
   "cell_type": "code",
   "execution_count": 125,
   "id": "28631ab7-de3c-4f8e-be7b-2e79a8b31665",
   "metadata": {},
   "outputs": [
    {
     "name": "stdout",
     "output_type": "stream",
     "text": [
      "--------------------------------------------------\n",
      "<class 'list'> [[1, 2, 3, 4], [5, 6, 7, 8], [9, 10, 11, 12], 13]\n",
      "<class 'list'> [1, 2, 3, 4]\n",
      "<class 'int'> 13\n",
      "<class 'list'> [[12, 11, 10, 9], [8, 7, 6, 5], [4, 3, 2, 1]]\n",
      "--------------------------------------------------\n",
      "[1, 2, 3, 4]-[[12, 11, 10, 9], [8, 7, 6, 5], [4, 3, 2, 1]]\n",
      "[5, 6, 7, 8]-[[12, 11, 10, 9], [8, 7, 6, 5], [4, 3, 2, 1]]\n",
      "[9, 10, 11, 12]-[[12, 11, 10, 9], [8, 7, 6, 5], [4, 3, 2, 1]]\n",
      "13-[[12, 11, 10, 9], [8, 7, 6, 5], [4, 3, 2, 1]]\n",
      "--------------------------------------------------\n",
      "1 2 3 4 \n",
      "5 6 7 8 \n",
      "9 10 11 12 \n",
      "--------------------------------------------------\n",
      "1\n",
      "2\n",
      "3\n",
      "4\n",
      "5\n",
      "6\n",
      "7\n",
      "8\n",
      "9\n",
      "10\n",
      "11\n",
      "12\n",
      "13\n",
      "--------------------------------------------------\n",
      "1 2 3 4 \n",
      "5 6 7 8 \n",
      "9 10 11 12 \n",
      "13\n",
      "\n",
      "--------------------------------------------------\n",
      "1_2_3_4!\n",
      "5_6_7_8!\n",
      "9_10_11_12!\n",
      "--------------------------------------------------\n",
      "[[5, 6, 7, 8], [9, 10, 11, 12]]-[[1, 2, 3, 4], [5, 6, 7, 8]]!"
     ]
    }
   ],
   "source": [
    "print (\"--------------------------------------------------\")\n",
    "a = [[1,2,3,4], [5,6,7,8], [9,10,11,12],13]\n",
    "b = [[12,11,10,9], [8,7,6,5], [4,3,2,1]]\n",
    "print (type(a), a)\n",
    "print (type(a[0]), a[0])\n",
    "print (type(a[3]), a[3])\n",
    "print (type(b), b)\n",
    "print (\"--------------------------------------------------\")\n",
    "for i in a:\n",
    "    print(i,b, sep = \"-\")\n",
    "print (\"--------------------------------------------------\")\n",
    "for i in range (3):\n",
    "    for j in range (4):\n",
    "        print (a[i][j],  end=\" \" )\n",
    "    print()\n",
    "print (\"--------------------------------------------------\")\n",
    "for i in a: \n",
    "    if isinstance(i, list):\n",
    "        for j in i:\n",
    "            print (j, end = \"\\n\")\n",
    "    else :\n",
    "        print (i)\n",
    "print (\"--------------------------------------------------\")\n",
    "for i in a:\n",
    "    if isinstance(i, list):\n",
    "        for j in i:\n",
    "            print (j, end = \" \")\n",
    "    else :\n",
    "        print (i)\n",
    "    print ()\n",
    "print (\"--------------------------------------------------\")\n",
    "for i1, i2, i3, i4 in a[0:3]:\n",
    "    print (i1, i2, i3, i4, sep=\"_\", end=\"!\\n\")\n",
    "print (\"--------------------------------------------------\")\n",
    "print (a[1:3],a[0:2], sep=\"-\", end=\"!\")"
   ]
  },
  {
   "cell_type": "code",
   "execution_count": null,
   "id": "ebac4895-9a48-4f4c-9384-e93ab8b6a4c2",
   "metadata": {},
   "outputs": [],
   "source": []
  }
 ],
 "metadata": {
  "kernelspec": {
   "display_name": "Python 3 (ipykernel)",
   "language": "python",
   "name": "python3"
  },
  "language_info": {
   "codemirror_mode": {
    "name": "ipython",
    "version": 3
   },
   "file_extension": ".py",
   "mimetype": "text/x-python",
   "name": "python",
   "nbconvert_exporter": "python",
   "pygments_lexer": "ipython3",
   "version": "3.12.4"
  }
 },
 "nbformat": 4,
 "nbformat_minor": 5
}
