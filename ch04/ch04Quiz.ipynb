{
 "cells": [
  {
   "cell_type": "code",
   "execution_count": 12,
   "id": "32a70470-91e2-4a72-a7b8-824e649ec221",
   "metadata": {},
   "outputs": [
    {
     "name": "stdout",
     "output_type": "stream",
     "text": [
      "------------------------- Quiz 1 -------------------------\n",
      "['닥터 스트레인지', '스플릿', '럭키']\n",
      "------------------------- Quiz 2 -------------------------\n",
      "['닥터 스트레인지', '스플릿', '럭키', '배트맨']\n",
      "------------------------- Quiz 3 -------------------------\n",
      "['닥터 스트레인지', '슈퍼맨', '스플릿', '럭키', '배트맨']\n",
      "------------------------- Quiz 4 -------------------------\n",
      "['닥터 스트레인지', '슈퍼맨', '스플릿', '배트맨']\n",
      "------------------------- Quiz 5 -------------------------\n",
      "['닥터 스트레인지', '슈퍼맨']\n"
     ]
    }
   ],
   "source": [
    "# Chapter 4 Quiz\n",
    "# Quiz 1\n",
    "print (\"-\" * 25, \"Quiz 1\", \"-\" *25)\n",
    "m = [\"닥터 스트레인지\", \"스플릿\", \"럭키\"]\n",
    "print (m)\n",
    "\n",
    "# Quiz 2\n",
    "print (\"-\" * 25, \"Quiz 2\", \"-\" *25)\n",
    "m.append(\"배트맨\")\n",
    "print (m)\n",
    "\n",
    "# Quiz 3\n",
    "print (\"-\" * 25, \"Quiz 3\", \"-\" *25)\n",
    "m.insert(1, \"슈퍼맨\")\n",
    "print (m)\n",
    "\n",
    "# Quiz 4\n",
    "print (\"-\" * 25, \"Quiz 4\", \"-\" *25)\n",
    "m.remove(\"럭키\")\n",
    "print (m)\n",
    "\n",
    "# Quiz 5\n",
    "print (\"-\" * 25, \"Quiz 5\", \"-\" *25)\n",
    "m.remove(\"스플릿\")\n",
    "m.pop(-1)\n",
    "print (m)"
   ]
  },
  {
   "cell_type": "code",
   "execution_count": 14,
   "id": "de6738ed-f5e0-4ddd-88c3-33275b211a7f",
   "metadata": {},
   "outputs": [
    {
     "name": "stdout",
     "output_type": "stream",
     "text": [
      "합계 : 298\n",
      "평균 : 59.6\n",
      "최대값 : 80\n",
      "최소값 : 25\n"
     ]
    }
   ],
   "source": [
    "# Quiz 6\n",
    "n = [80, 72, 53, 25, 68]\n",
    "sum = sum(n)\n",
    "avg = sum / len(n)\n",
    "max = max(n)\n",
    "min = min(n)\n",
    "print (\"합계 :\", sum)\n",
    "print (\"평균 :\", avg)\n",
    "print (\"최대값 :\", max)\n",
    "print (\"최소값 :\", min)"
   ]
  },
  {
   "cell_type": "code",
   "execution_count": 74,
   "id": "370ca1a6-21d3-4338-bf84-87952f107e1e",
   "metadata": {},
   "outputs": [
    {
     "name": "stdout",
     "output_type": "stream",
     "text": [
      "[100, 130, 140, 150, 160, 170]\n",
      "100\n",
      "130\n",
      "140\n",
      "150\n",
      "160\n",
      "170\n"
     ]
    }
   ],
   "source": [
    "# Quiz 7\n",
    "price = ['20180728', 100, 130, 140, 150, 160, 170]\n",
    "print (price[1::])\n",
    "for i in price[1::]:\n",
    "    print (i)"
   ]
  },
  {
   "cell_type": "code",
   "execution_count": 18,
   "id": "a752d39a-ce7e-414e-bb99-550f3400696b",
   "metadata": {},
   "outputs": [
    {
     "name": "stdout",
     "output_type": "stream",
     "text": [
      "<class 'tuple'> ('닥터 스트레인지', '스플릿', '럭키')\n"
     ]
    }
   ],
   "source": [
    "# Quiz 8\n",
    "movie_rank = ('닥터 스트레인지', '스플릿', '럭키')\n",
    "print (type(movie_rank), movie_rank)"
   ]
  },
  {
   "cell_type": "code",
   "execution_count": 32,
   "id": "18029570-c27f-46a1-8cf2-c920a0a50d43",
   "metadata": {},
   "outputs": [],
   "source": [
    "# Quiz 9\n",
    "t = (1, 2, 3)\n",
    "# t[0] = 'a' # Tuple can't change"
   ]
  },
  {
   "cell_type": "code",
   "execution_count": 40,
   "id": "c335e8bd-a8fb-447b-ab1a-c0bf1eb86687",
   "metadata": {},
   "outputs": [
    {
     "name": "stdout",
     "output_type": "stream",
     "text": [
      "------------------------- Quiz 10 -------------------------\n",
      "{'메로나': 1000, '폴라포': 1200, '빵빠레': 1800}\n",
      "------------------------- Quiz 11 -------------------------\n",
      "{'메로나': 1000, '폴라포': 1200, '빵빠레': 1800, '죠스바': 1200, '월드콘': 1500}\n",
      "------------------------- Quiz 12 -------------------------\n",
      "1000\n",
      "------------------------- Quiz 13 -------------------------\n",
      "{'메로나': 1300, '폴라포': 1200, '빵빠레': 1800, '죠스바': 1200, '월드콘': 1500}\n"
     ]
    }
   ],
   "source": [
    "# Quiz 10\n",
    "print (\"-\" * 25, \"Quiz 10\", \"-\" *25)\n",
    "i = { '메로나': 1000, '폴라포': 1200, '빵빠레': 1800}\n",
    "print (i)\n",
    "\n",
    "# Quiz 11\n",
    "print (\"-\" * 25, \"Quiz 11\", \"-\" *25)\n",
    "# i = i + {'죠스바': 1200, '월드콘': 1500}\n",
    "i['죠스바'] = 1200\n",
    "i['월드콘'] = 1500\n",
    "print (i)\n",
    "\n",
    "# Quiz 12\n",
    "print (\"-\" * 25, \"Quiz 12\", \"-\" *25)\n",
    "print(i['메로나'])\n",
    "\n",
    "# Quiz 13\n",
    "print (\"-\" * 25, \"Quiz 13\", \"-\" *25)\n",
    "i['메로나'] = 1300\n",
    "print (i)"
   ]
  },
  {
   "cell_type": "code",
   "execution_count": 72,
   "id": "97e10161-d27d-4aab-ae77-9b8fb0cf3020",
   "metadata": {},
   "outputs": [
    {
     "name": "stdout",
     "output_type": "stream",
     "text": [
      "------------------------- Quiz 14 -------------------------\n",
      "{'메로나': [300, 20], '비비빅': [400, 3], '죠스바': [250, 100]}\n",
      "------------------------- Quiz 15 -------------------------\n",
      "메로나 가격 : 300 원\n",
      "------------------------- Quiz 16 -------------------------\n",
      "메로나 재고 : 20 개\n",
      "------------------------- Quiz 17 -------------------------\n",
      "{'메로나': [300, 20], '비비빅': [400, 3], '죠스바': [250, 100], '월드콘': [500, 7]}\n",
      "------------------------- Quiz 18 -------------------------\n",
      "<class 'dict_keys'> dict_keys(['메로나', '비비빅', '죠스바', '월드콘'])\n",
      "<class 'list'> ['메로나', '비비빅', '죠스바', '월드콘']\n",
      "------------------------- Quiz 19 -------------------------\n",
      "<class 'dict_values'> dict_values([[300, 20], [400, 3], [250, 100], [500, 7]])\n",
      "<class 'list'> [[300, 20], [400, 3], [250, 100], [500, 7]]\n",
      "------------------------- Quiz 20 -------------------------\n",
      "판매금액 총합 : 1450\n"
     ]
    }
   ],
   "source": [
    "# Quiz 14\n",
    "print (\"-\" * 25, \"Quiz 14\", \"-\" *25)\n",
    "inventory = {'메로나':[300, 20], '비비빅': [400, 3], '죠스바':[250, 100]}\n",
    "print (inventory)\n",
    "\n",
    "# Quiz 15\n",
    "print (\"-\" * 25, \"Quiz 15\", \"-\" *25)\n",
    "print (\"메로나 가격 : %d 원\" %inventory['메로나'][0])\n",
    "\n",
    "# Quiz 16\n",
    "print (\"-\" * 25, \"Quiz 16\", \"-\" *25)\n",
    "print (\"메로나 재고 : %d 개\" %inventory['메로나'][1])\n",
    "\n",
    "# Quiz 17\n",
    "print (\"-\" * 25, \"Quiz 17\", \"-\" *25)\n",
    "inventory['월드콘'] = [500, 7]\n",
    "print (inventory)\n",
    "\n",
    "# Quiz 18\n",
    "print (\"-\" * 25, \"Quiz 18\", \"-\" *25)\n",
    "inventory_keys = inventory.keys()\n",
    "print (type(inventory_keys), inventory_keys)\n",
    "keys_list = []\n",
    "for i in inventory_keys:\n",
    "    keys_list.append(i)\n",
    "print (type(keys_list), keys_list)\n",
    "\n",
    "# Quiz 19\n",
    "print (\"-\" * 25, \"Quiz 19\", \"-\" *25)\n",
    "inventory_values = inventory.values()\n",
    "print (type(inventory_values), inventory_values)\n",
    "values_list = []\n",
    "for i in inventory_values:\n",
    "    values_list.append(i)\n",
    "print (type(values_list), values_list)\n",
    "\n",
    "\n",
    "# Quiz 20\n",
    "print (\"-\" * 25, \"Quiz 20\", \"-\" *25)\n",
    "sumPrice = 0\n",
    "for i in inventory:\n",
    "    sumPrice += inventory[i][0]\n",
    "print (\"판매금액 총합 :\", sumPrice)"
   ]
  },
  {
   "cell_type": "code",
   "execution_count": null,
   "id": "9f634353-5d16-4d12-b12c-064d866b8b4d",
   "metadata": {},
   "outputs": [],
   "source": []
  }
 ],
 "metadata": {
  "kernelspec": {
   "display_name": "Python 3 (ipykernel)",
   "language": "python",
   "name": "python3"
  },
  "language_info": {
   "codemirror_mode": {
    "name": "ipython",
    "version": 3
   },
   "file_extension": ".py",
   "mimetype": "text/x-python",
   "name": "python",
   "nbconvert_exporter": "python",
   "pygments_lexer": "ipython3",
   "version": "3.12.4"
  }
 },
 "nbformat": 4,
 "nbformat_minor": 5
}
