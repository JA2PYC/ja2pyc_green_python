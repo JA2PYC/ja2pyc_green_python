{
 "cells": [
  {
   "cell_type": "code",
   "execution_count": 10,
   "id": "d8e303fe-398d-4356-bb10-75c7e9a1b2ea",
   "metadata": {},
   "outputs": [
    {
     "name": "stdout",
     "output_type": "stream",
     "text": [
      "<class 'dict'> {'1반': 20, '2반': 22, '3반': 23}\n",
      "<class 'int'> 20\n",
      "<class 'int'> 22\n"
     ]
    }
   ],
   "source": [
    "# Dictionary Type\n",
    "a = {'1반':20, '2반':22,'3반':23}\n",
    "print (type(a),a)\n",
    "print (type(a['1반']), a['1반'])\n",
    "print (type(a[\"2반\"]), a[\"2반\"])"
   ]
  },
  {
   "cell_type": "code",
   "execution_count": 54,
   "id": "a110a2d8-9037-4356-ae34-daaaa4722ce0",
   "metadata": {},
   "outputs": [
    {
     "name": "stdout",
     "output_type": "stream",
     "text": [
      "--------------------------------------------------\n",
      "1반\n",
      "2반\n",
      "3반\n",
      "--------------------------------------------------\n",
      "1반 20! 2반 22! 3반 23! \n",
      "--------------------------------------------------\n",
      "1 반\n",
      "[95, 90, 80]\n",
      "95\n",
      "2 반\n",
      "[92, 88, 90]\n",
      "92\n",
      "3 반\n",
      "[88, 99, 82]\n",
      "88\n"
     ]
    }
   ],
   "source": [
    "a = {'1반':20, '2반':22,'3반':23}\n",
    "b = {'1반':[95, 90, 80], '2반':[92, 88, 90],'3반':[88, 99, 82]}\n",
    "print (\"--------------------------------------------------\")\n",
    "for i in a:\n",
    "    print (i)\n",
    "print (\"--------------------------------------------------\")\n",
    "for i in a:\n",
    "    print (i, a[i], sep=\" \", end=\"! \")\n",
    "print()\n",
    "print (\"--------------------------------------------------\")\n",
    "for i1, i2 in b:\n",
    "    print (i1, i2)\n",
    "    print (b[(i1+i2)])\n",
    "    print (b[(i1+i2)][0])"
   ]
  },
  {
   "cell_type": "code",
   "execution_count": 74,
   "id": "7fe28214-8661-4579-ad1b-9138fd9260a2",
   "metadata": {},
   "outputs": [
    {
     "name": "stdin",
     "output_type": "stream",
     "text": [
      "점수를 입력하세요 :  100\n",
      "점수를 입력하세요 :  90\n",
      "점수를 입력하세요 :  87\n",
      "점수를 입력하세요 :  \n"
     ]
    },
    {
     "name": "stdout",
     "output_type": "stream",
     "text": [
      "입력 데이터 출력 :  ['100', '90', '87']\n",
      "합계 :  277\n",
      "평균 :  92.33333333333333\n"
     ]
    }
   ],
   "source": [
    "j =[]\n",
    "while True: \n",
    "    userInput = input (\"점수를 입력하세요 : \")\n",
    "    if userInput.isdigit():\n",
    "        j.append(userInput)\n",
    "    else :\n",
    "        break;\n",
    "sum = 0\n",
    "for i in j:\n",
    "    sum = sum + int(i)\n",
    "avg = sum / len(j)\n",
    "print (\"입력 데이터 출력 : \", j)\n",
    "print (\"합계 : \", sum)\n",
    "print (\"평균 : \", avg)"
   ]
  },
  {
   "cell_type": "code",
   "execution_count": null,
   "id": "012c9ebc-2ee9-4966-ab97-05156e80e796",
   "metadata": {},
   "outputs": [],
   "source": []
  }
 ],
 "metadata": {
  "kernelspec": {
   "display_name": "Python 3 (ipykernel)",
   "language": "python",
   "name": "python3"
  },
  "language_info": {
   "codemirror_mode": {
    "name": "ipython",
    "version": 3
   },
   "file_extension": ".py",
   "mimetype": "text/x-python",
   "name": "python",
   "nbconvert_exporter": "python",
   "pygments_lexer": "ipython3",
   "version": "3.12.4"
  }
 },
 "nbformat": 4,
 "nbformat_minor": 5
}
