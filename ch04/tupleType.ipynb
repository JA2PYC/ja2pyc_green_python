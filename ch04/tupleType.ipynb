{
 "cells": [
  {
   "cell_type": "code",
   "execution_count": 13,
   "id": "f6578a33-6721-4305-93a3-664de7cd1e3d",
   "metadata": {},
   "outputs": [
    {
     "name": "stdout",
     "output_type": "stream",
     "text": [
      "--------------------------------------------------\n",
      "<class 'tuple'> ('사과', '배', '감')\n",
      "<class 'tuple'> ('복숭아',)\n",
      "<class 'tuple'> ()\n",
      "--------------------------------------------------\n",
      "('사과', '배', '감')\n",
      "('자두', '블루베리')\n",
      "('망고', '바나나', '포도')\n"
     ]
    }
   ],
   "source": [
    "# Tuple Type\n",
    "print(\"--------------------------------------------------\")\n",
    "a = ('사과', '배', '감')\n",
    "b = ('복숭아',)\n",
    "c = ( )\n",
    "print (type(a), a)\n",
    "print (type(b), b)\n",
    "print (type(c), c)\n",
    "print(\"--------------------------------------------------\")\n",
    "#a[0] = '귤' # TypeError \n",
    "b = ('자두', '블루베리')\n",
    "c = ('망고', '바나나', '포도')\n",
    "print (a)\n",
    "print (b)\n",
    "print (c)\n"
   ]
  },
  {
   "cell_type": "code",
   "execution_count": null,
   "id": "e5796f07-2953-4fe7-8ed7-c9f248b115a8",
   "metadata": {},
   "outputs": [],
   "source": []
  }
 ],
 "metadata": {
  "kernelspec": {
   "display_name": "Python 3 (ipykernel)",
   "language": "python",
   "name": "python3"
  },
  "language_info": {
   "codemirror_mode": {
    "name": "ipython",
    "version": 3
   },
   "file_extension": ".py",
   "mimetype": "text/x-python",
   "name": "python",
   "nbconvert_exporter": "python",
   "pygments_lexer": "ipython3",
   "version": "3.12.4"
  }
 },
 "nbformat": 4,
 "nbformat_minor": 5
}
