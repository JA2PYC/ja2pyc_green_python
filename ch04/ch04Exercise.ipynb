{
 "cells": [
  {
   "cell_type": "code",
   "execution_count": 4,
   "id": "ae4dd2c2-5c98-472b-a639-93c94031f180",
   "metadata": {},
   "outputs": [
    {
     "name": "stdin",
     "output_type": "stream",
     "text": [
      "이름을 입력하세요 :  JAVA\n",
      "이름을 입력하세요 :  C#\n",
      "이름을 입력하세요 :  PHP\n",
      "이름을 입력하세요 :  \n"
     ]
    },
    {
     "name": "stdout",
     "output_type": "stream",
     "text": [
      "JAVA\n",
      "C#\n",
      "PHP\n"
     ]
    }
   ],
   "source": [
    "# Chapter 4 Exercise\n",
    "# Question 1\n",
    "name = []\n",
    "while True:\n",
    "    n = input(\"이름을 입력하세요 : \")\n",
    "    if n == \"\":\n",
    "        break;\n",
    "    name.append(n)\n",
    "\n",
    "for i in name:\n",
    "    print (i)"
   ]
  },
  {
   "cell_type": "code",
   "execution_count": 12,
   "id": "adce3ae4-e4f2-419e-82e3-a45f60253724",
   "metadata": {},
   "outputs": [
    {
     "name": "stdout",
     "output_type": "stream",
     "text": [
      "--------------------------------------------------\n",
      "Python\n",
      "Java\n",
      "C#\n",
      "PHP\n",
      "--------------------------------------------------\n",
      "Python\n",
      "Java\n",
      "C#\n",
      "PHP\n",
      "--------------------------------------------------\n",
      "Python\n",
      "Java\n",
      "C#\n",
      "PHP\n",
      "--------------------------------------------------\n"
     ]
    }
   ],
   "source": [
    "# Question 2\n",
    "a = [\"Python\", \"Java\", \"C#\", \"PHP\"]\n",
    "print(\"--------------------------------------------------\")\n",
    "for i in range(len(a)):\n",
    "    print (a[i])\n",
    "print(\"--------------------------------------------------\")\n",
    "for i in a:\n",
    "    print (i)\n",
    "print(\"--------------------------------------------------\")\n",
    "i = 0\n",
    "while i < len(a):\n",
    "    print (a[i])\n",
    "    i+=1\n",
    "print(\"--------------------------------------------------\")\n",
    "#for i in a:\n",
    "#    print (a[i]) #TypeError"
   ]
  },
  {
   "cell_type": "code",
   "execution_count": 52,
   "id": "49ed0673-bd80-4165-9da7-b97fd6903060",
   "metadata": {},
   "outputs": [
    {
     "name": "stdout",
     "output_type": "stream",
     "text": [
      "--------------------------------------------------\n",
      "bdfhj\n",
      "--------------------------------------------------\n",
      "bdfhjln\n",
      "--------------------------------------------------\n",
      "bdfhj\n",
      "--------------------------------------------------\n",
      "bdfhj\n"
     ]
    }
   ],
   "source": [
    "# Question 3\n",
    "c = \"abcdefghijklmn\"\n",
    "print(\"--------------------------------------------------\")\n",
    "print (c[1:10:2])\n",
    "print(\"--------------------------------------------------\")\n",
    "print (c[1::2])\n",
    "print(\"--------------------------------------------------\")\n",
    "for i in range(1,10,2):\n",
    "    #print (i)\n",
    "    print(c[i], end='')\n",
    "    i+=1\n",
    "    #print (i)\n",
    "print ()\n",
    "print(\"--------------------------------------------------\")\n",
    "for i in range(10):\n",
    "    if i%2 ==1:\n",
    "        print(c[i], end='')\n",
    "print ()"
   ]
  },
  {
   "cell_type": "code",
   "execution_count": 54,
   "id": "4150dc74-d860-4e2c-8498-443d6b679819",
   "metadata": {},
   "outputs": [
    {
     "name": "stdout",
     "output_type": "stream",
     "text": [
      "--------------------------------------------------\n",
      "[[1, 2, 3], [4, 5, 6], [7, 8, 9]]\n",
      "6\n",
      "--------------------------------------------------\n"
     ]
    }
   ],
   "source": [
    "# Question 4\n",
    "n = [[1, 2, 3], [4, 5, 6], [7, 8, 9]]\n",
    "print(\"--------------------------------------------------\")\n",
    "print (n)\n",
    "print (n[1][2])\n",
    "print(\"--------------------------------------------------\")"
   ]
  },
  {
   "cell_type": "code",
   "execution_count": 60,
   "id": "22d1f86c-f9e1-4e0c-b947-56461fbf6a3b",
   "metadata": {},
   "outputs": [
    {
     "name": "stdout",
     "output_type": "stream",
     "text": [
      "과자\n"
     ]
    }
   ],
   "source": [
    "# Question 6\n",
    "a = { 1:'김밥', 2:'떡볶이', 3:'과자', 4:'사탕'}\n",
    "print (a[3])"
   ]
  },
  {
   "cell_type": "code",
   "execution_count": null,
   "id": "3b70cf2a-4d8d-4c8f-918e-042fadddc4d1",
   "metadata": {},
   "outputs": [],
   "source": []
  }
 ],
 "metadata": {
  "kernelspec": {
   "display_name": "Python 3 (ipykernel)",
   "language": "python",
   "name": "python3"
  },
  "language_info": {
   "codemirror_mode": {
    "name": "ipython",
    "version": 3
   },
   "file_extension": ".py",
   "mimetype": "text/x-python",
   "name": "python",
   "nbconvert_exporter": "python",
   "pygments_lexer": "ipython3",
   "version": "3.12.4"
  }
 },
 "nbformat": 4,
 "nbformat_minor": 5
}
